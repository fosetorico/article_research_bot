{
 "cells": [
  {
   "cell_type": "code",
   "execution_count": 110,
   "id": "0c2aff87",
   "metadata": {},
   "outputs": [],
   "source": [
    "# import os\n",
    "# import streamlit as st\n",
    "# import pickle\n",
    "# import dill\n",
    "# import time\n",
    "# import langchain\n",
    "# from langchain import OpenAI\n",
    "# from langchain.chains import RetrievalQAWithSourcesChain\n",
    "# from langchain.chains.qa_with_sources.loading import load_qa_with_sources_chain\n",
    "# from langchain.text_splitter import RecursiveCharacterTextSplitter\n",
    "# from langchain.document_loaders import UnstructuredURLLoader\n",
    "# from langchain.embeddings import OpenAIEmbeddings\n",
    "# from langchain.vectorstores import FAISS"
   ]
  },
  {
   "cell_type": "code",
   "execution_count": 177,
   "id": "bb3f23ba-9a0f-43b5-a715-27d4df6827b6",
   "metadata": {},
   "outputs": [],
   "source": [
    "import os\n",
    "import pickle\n",
    "import faiss\n",
    "import langchain\n",
    "from langchain import OpenAI\n",
    "from langchain.chains import RetrievalQAWithSourcesChain\n",
    "from langchain.text_splitter import RecursiveCharacterTextSplitter\n",
    "from langchain.document_loaders import UnstructuredURLLoader\n",
    "from langchain.embeddings import OpenAIEmbeddings\n",
    "from langchain.vectorstores import FAISS\n",
    "from langchain.docstore import InMemoryDocstore\n",
    "from langchain.schema import Document"
   ]
  },
  {
   "cell_type": "code",
   "execution_count": 1,
   "id": "80fc5e57",
   "metadata": {},
   "outputs": [],
   "source": [
    "#load api key\n",
    "# os.environ[''] = ''"
   ]
  },
  {
   "cell_type": "code",
   "execution_count": 179,
   "id": "39e721c4",
   "metadata": {},
   "outputs": [],
   "source": [
    "# Initialise LLM with required params\n",
    "llm = OpenAI(temperature=0.9, max_tokens=500) "
   ]
  },
  {
   "cell_type": "markdown",
   "id": "bd0c3ff7",
   "metadata": {},
   "source": [
    "### (1) Load data"
   ]
  },
  {
   "cell_type": "code",
   "execution_count": 176,
   "id": "55fa0ef5",
   "metadata": {},
   "outputs": [],
   "source": [
    "# loaders = UnstructuredURLLoader(urls=[\n",
    "#     \"https://www.moneycontrol.com/news/business/markets/wall-street-rises-as-tesla-soars-on-ai-optimism-11351111.html\",\n",
    "#     \"https://www.moneycontrol.com/news/business/tata-motors-launches-punch-icng-price-starts-at-rs-7-1-lakh-11098751.html\"\n",
    "# ])\n",
    "# data = loaders.load() \n",
    "# len(data)"
   ]
  },
  {
   "cell_type": "code",
   "execution_count": 180,
   "id": "71189673-204c-4336-9545-56b8b65ebea0",
   "metadata": {},
   "outputs": [
    {
     "data": {
      "text/plain": [
       "2"
      ]
     },
     "execution_count": 180,
     "metadata": {},
     "output_type": "execute_result"
    }
   ],
   "source": [
    "loaders = UnstructuredURLLoader(urls=[\n",
    "    \"https://www.theguardian.com/technology/2024/apr/21/tesla-sales-price-cuts-elon-musk\",\n",
    "    \"https://www.bbc.co.uk/news/articles/c1d4g8jz57yo\"\n",
    "])\n",
    "data = loaders.load() \n",
    "len(data)"
   ]
  },
  {
   "cell_type": "markdown",
   "id": "9f51a5bd",
   "metadata": {},
   "source": [
    "### (2) Split data to create chunks"
   ]
  },
  {
   "cell_type": "code",
   "execution_count": 181,
   "id": "054a6361",
   "metadata": {},
   "outputs": [],
   "source": [
    "text_splitter = RecursiveCharacterTextSplitter(\n",
    "    chunk_size=1000,\n",
    "    chunk_overlap=200\n",
    ")\n",
    "\n",
    "# As data is of type documents we can directly use split_documents over split_text in order to get the chunks.\n",
    "docs = text_splitter.split_documents(data)"
   ]
  },
  {
   "cell_type": "code",
   "execution_count": 182,
   "id": "379e3d94",
   "metadata": {},
   "outputs": [
    {
     "data": {
      "text/plain": [
       "10"
      ]
     },
     "execution_count": 182,
     "metadata": {},
     "output_type": "execute_result"
    }
   ],
   "source": [
    "len(docs)"
   ]
  },
  {
   "cell_type": "code",
   "execution_count": 183,
   "id": "637ee7ae",
   "metadata": {
    "scrolled": true
   },
   "outputs": [
    {
     "data": {
      "text/plain": [
       "Document(page_content='The starting price for the Model X was reduced to $77,990 in the US. Photograph: David Zalubowski/AP\\n\\nView image in fullscreen\\n\\nThe starting price for the Model X was reduced to $77,990 in the US. Photograph: David Zalubowski/AP\\n\\nTesla\\n\\nTesla cuts prices around the world as sales decline in a chaotic week\\n\\nThis article is more than 2 months old\\n\\nGlobal vehicle deliveries fall for first time in four years amid growing competition, while Cybertruck faces recall\\n\\nGuardian staff and agencies\\n\\nSun 21 Apr 2024 18.46 BST\\n\\nShare\\n\\nTesla slashed prices of three of its five models in the US late on Friday, then went on to cut prices around the globe – including in China and Germany – as the company faces falling sales, a Cybertruck recall and an intensifying war for electric vehicles (EVs).\\n\\nWhat the Cybertruck’s many failures mean for TeslaRead more', metadata={'source': 'https://www.theguardian.com/technology/2024/apr/21/tesla-sales-price-cuts-elon-musk'})"
      ]
     },
     "execution_count": 183,
     "metadata": {},
     "output_type": "execute_result"
    }
   ],
   "source": [
    "docs[0]"
   ]
  },
  {
   "cell_type": "code",
   "execution_count": 184,
   "id": "eab990d3-cae1-4bc0-a28d-3a2d502418e2",
   "metadata": {},
   "outputs": [
    {
     "data": {
      "text/plain": [
       "Document(page_content='What the Cybertruck’s many failures mean for TeslaRead more\\n\\nOn Friday, the company, led by the billionaire Elon Musk, cut the prices of the Model Y, a small SUV that is Tesla’s most popular model and the top-selling electric vehicle in the US, and also of the Models X and S, its older and more expensive models. Prices for the Model 3 sedan and the Cybertruck stayed the same.\\n\\nThe cuts reduced the starting price for a Model Y to $42,990, and to $72,990 for a Model S and $77,990 for a Model X.\\n\\nThen on Saturday, Tesla slashed the US price of its “Full Self-Driving” driver assistant software from $12,000 to $8,000.\\n\\nThe cuts continued on Sunday, when Tesla cut the starting price of the revamped Model 3 in China by 14,000 yuan ($1,930) to 231,900 yuan ($32,000), its official website showed.\\n\\nIn Germany, the carmaker trimmed the price of its Model 3 rear-wheel drive to €40,990 ($43,670.75) from €42,990, where the price has been since February.', metadata={'source': 'https://www.theguardian.com/technology/2024/apr/21/tesla-sales-price-cuts-elon-musk'})"
      ]
     },
     "execution_count": 184,
     "metadata": {},
     "output_type": "execute_result"
    }
   ],
   "source": [
    "docs[1]"
   ]
  },
  {
   "cell_type": "markdown",
   "id": "9e35a876",
   "metadata": {},
   "source": [
    "### (3) Create embeddings for these chunks and save them to FAISS index"
   ]
  },
  {
   "cell_type": "code",
   "execution_count": 185,
   "id": "c3d0a6dd",
   "metadata": {},
   "outputs": [],
   "source": [
    "# Create the embeddings of the chunks using openAIEmbeddings\n",
    "embeddings = OpenAIEmbeddings()"
   ]
  },
  {
   "cell_type": "code",
   "execution_count": 186,
   "id": "2c424e29-99c6-4c1f-85b7-1252e4b3f3f4",
   "metadata": {},
   "outputs": [],
   "source": [
    "# Determine the embedding dimension (assuming 1536 for OpenAI embeddings like text-embedding-ada-002)\n",
    "embedding_dimension = 1536"
   ]
  },
  {
   "cell_type": "code",
   "execution_count": 187,
   "id": "4228e265-f3d6-4ed4-92e7-d114351cd17a",
   "metadata": {},
   "outputs": [
    {
     "name": "stdout",
     "output_type": "stream",
     "text": [
      "Document store keys: ['0', '1', '2', '3', '4', '5', '6', '7', '8', '9']\n"
     ]
    }
   ],
   "source": [
    "# Create a document store\n",
    "docstore_dict = {str(i): doc for i, doc in enumerate(docs)}\n",
    "docstore = InMemoryDocstore(docstore_dict)\n",
    "print(f\"Document store keys: {list(docstore_dict.keys())[:10]}\")  # Debug output"
   ]
  },
  {
   "cell_type": "code",
   "execution_count": 188,
   "id": "43c39afc-d8ed-4265-84c2-ee6e1b8548b0",
   "metadata": {},
   "outputs": [],
   "source": [
    "# Create FAISS vector index\n",
    "index = faiss.IndexFlatL2(embedding_dimension)\n",
    "\n",
    "# Initialize the FAISS vector store with a correct mapping\n",
    "index_to_docstore_id = {i: str(i) for i in range(len(docs))}\n",
    "vector_store = FAISS(embedding_function=embeddings, index=index, docstore=docstore, index_to_docstore_id=index_to_docstore_id)"
   ]
  },
  {
   "cell_type": "code",
   "execution_count": 189,
   "id": "ac63551c-f220-4dfd-acc6-5364e5061d37",
   "metadata": {},
   "outputs": [
    {
     "name": "stdout",
     "output_type": "stream",
     "text": [
      "Documents added to FAISS index.\n"
     ]
    }
   ],
   "source": [
    "# Add documents to the FAISS index\n",
    "vector_store.add_documents(docs)\n",
    "print(\"Documents added to FAISS index.\")"
   ]
  },
  {
   "cell_type": "code",
   "execution_count": 129,
   "id": "deacf40d-b552-4aba-8ea0-8108d692c068",
   "metadata": {},
   "outputs": [],
   "source": [
    "# # Pass the documents and embeddings inorder to create FAISS vector index\n",
    "# vectorindex_openai = FAISS.from_documents(docs, embeddings)"
   ]
  },
  {
   "cell_type": "code",
   "execution_count": 190,
   "id": "c7ffd9ff-4add-4978-85fe-39ed3b2ea549",
   "metadata": {},
   "outputs": [],
   "source": [
    "# Save the FAISS index and documents separately\n",
    "index_path = \"faiss_index.bin\"\n",
    "faiss.write_index(vector_store.index, index_path)"
   ]
  },
  {
   "cell_type": "code",
   "execution_count": 191,
   "id": "b74c145d-24a6-42ae-8b93-43c3c951417b",
   "metadata": {},
   "outputs": [],
   "source": [
    "docs_path = \"docs.pkl\"\n",
    "with open(docs_path, \"wb\") as f:\n",
    "    pickle.dump(docs, f)"
   ]
  },
  {
   "cell_type": "code",
   "execution_count": 192,
   "id": "f5e55e66-1606-4c03-b79e-5cdf32f29585",
   "metadata": {},
   "outputs": [],
   "source": [
    "# Save the index_to_docstore_id mapping\n",
    "index_to_docstore_id_path = \"index_to_docstore_id.pkl\"\n",
    "with open(index_to_docstore_id_path, \"wb\") as f:\n",
    "    pickle.dump(vector_store.index_to_docstore_id, f)"
   ]
  },
  {
   "cell_type": "code",
   "execution_count": 193,
   "id": "208f109a-2f67-4033-beb9-c61c95e7d221",
   "metadata": {},
   "outputs": [
    {
     "name": "stdout",
     "output_type": "stream",
     "text": [
      "Loaded document store keys: ['0', '1', '2', '3', '4', '5', '6', '7', '8', '9']\n"
     ]
    }
   ],
   "source": [
    "# Load the FAISS index and documents\n",
    "if os.path.exists(index_path) and os.path.exists(docs_path) and os.path.exists(index_to_docstore_id_path):\n",
    "    index = faiss.read_index(index_path)\n",
    "    with open(docs_path, \"rb\") as f:\n",
    "        docs = pickle.load(f)\n",
    "    with open(index_to_docstore_id_path, \"rb\") as f:\n",
    "        index_to_docstore_id = pickle.load(f)\n",
    "    docstore = InMemoryDocstore({str(i): doc for i, doc in enumerate(docs)})\n",
    "    print(f\"Loaded document store keys: {list(docstore._dict.keys())[:10]}\")  # Debug output\n",
    "    embeddings = OpenAIEmbeddings()  # Recreate embeddings object\n",
    "    vector_store = FAISS(embedding_function=embeddings, index=index, docstore=docstore, index_to_docstore_id=index_to_docstore_id)"
   ]
  },
  {
   "cell_type": "code",
   "execution_count": 101,
   "id": "a9686c13",
   "metadata": {},
   "outputs": [],
   "source": [
    "# # import dill\n",
    "\n",
    "# # Storing vector index create in local\n",
    "# file_path=\"vector_index2.pkl\"\n",
    "# with open(file_path, \"wb\") as f:\n",
    "#     pickle.dump(vectorindex_openai, f)"
   ]
  },
  {
   "cell_type": "code",
   "execution_count": 102,
   "id": "688dc29b",
   "metadata": {},
   "outputs": [],
   "source": [
    "# if os.path.exists(file_path):\n",
    "#     with open(file_path, \"rb\") as f:\n",
    "#         vectorIndex = pickle.load(f)"
   ]
  },
  {
   "cell_type": "markdown",
   "id": "fbd96296",
   "metadata": {},
   "source": [
    "### (4) Retrieve similar embeddings for a given question and call LLM to retrieve final answer"
   ]
  },
  {
   "cell_type": "code",
   "execution_count": 194,
   "id": "01f5e1e8",
   "metadata": {},
   "outputs": [
    {
     "data": {
      "text/plain": [
       "RetrievalQAWithSourcesChain(combine_documents_chain=MapReduceDocumentsChain(llm_chain=LLMChain(prompt=PromptTemplate(input_variables=['context', 'question'], template='Use the following portion of a long document to see if any of the text is relevant to answer the question. \\nReturn any relevant text verbatim.\\n{context}\\nQuestion: {question}\\nRelevant text, if any:'), llm=OpenAI(client=<openai.resources.completions.Completions object at 0x00000194AC16F8D0>, async_client=<openai.resources.completions.AsyncCompletions object at 0x00000194AC06C790>, temperature=0.9, max_tokens=500, openai_api_key='sk-proj-alk0bEm6RvQpN18aGMHhT3BlbkFJrTACFCOEP0Um6kY2V3In', openai_proxy='')), reduce_documents_chain=ReduceDocumentsChain(combine_documents_chain=StuffDocumentsChain(llm_chain=LLMChain(prompt=PromptTemplate(input_variables=['question', 'summaries'], template='Given the following extracted parts of a long document and a question, create a final answer with references (\"SOURCES\"). \\nIf you don\\'t know the answer, just say that you don\\'t know. Don\\'t try to make up an answer.\\nALWAYS return a \"SOURCES\" part in your answer.\\n\\nQUESTION: Which state/country\\'s law governs the interpretation of the contract?\\n=========\\nContent: This Agreement is governed by English law and the parties submit to the exclusive jurisdiction of the English courts in  relation to any dispute (contractual or non-contractual) concerning this Agreement save that either party may apply to any court for an  injunction or other relief to protect its Intellectual Property Rights.\\nSource: 28-pl\\nContent: No Waiver. Failure or delay in exercising any right or remedy under this Agreement shall not constitute a waiver of such (or any other)  right or remedy.\\n\\n11.7 Severability. The invalidity, illegality or unenforceability of any term (or part of a term) of this Agreement shall not affect the continuation  in force of the remainder of the term (if any) and this Agreement.\\n\\n11.8 No Agency. Except as expressly stated otherwise, nothing in this Agreement shall create an agency, partnership or joint venture of any  kind between the parties.\\n\\n11.9 No Third-Party Beneficiaries.\\nSource: 30-pl\\nContent: (b) if Google believes, in good faith, that the Distributor has violated or caused Google to violate any Anti-Bribery Laws (as  defined in Clause 8.5) or that such a violation is reasonably likely to occur,\\nSource: 4-pl\\n=========\\nFINAL ANSWER: This Agreement is governed by English law.\\nSOURCES: 28-pl\\n\\nQUESTION: What did the president say about Michael Jackson?\\n=========\\nContent: Madam Speaker, Madam Vice President, our First Lady and Second Gentleman. Members of Congress and the Cabinet. Justices of the Supreme Court. My fellow Americans.  \\n\\nLast year COVID-19 kept us apart. This year we are finally together again. \\n\\nTonight, we meet as Democrats Republicans and Independents. But most importantly as Americans. \\n\\nWith a duty to one another to the American people to the Constitution. \\n\\nAnd with an unwavering resolve that freedom will always triumph over tyranny. \\n\\nSix days ago, Russia’s Vladimir Putin sought to shake the foundations of the free world thinking he could make it bend to his menacing ways. But he badly miscalculated. \\n\\nHe thought he could roll into Ukraine and the world would roll over. Instead he met a wall of strength he never imagined. \\n\\nHe met the Ukrainian people. \\n\\nFrom President Zelenskyy to every Ukrainian, their fearlessness, their courage, their determination, inspires the world. \\n\\nGroups of citizens blocking tanks with their bodies. Everyone from students to retirees teachers turned soldiers defending their homeland.\\nSource: 0-pl\\nContent: And we won’t stop. \\n\\nWe have lost so much to COVID-19. Time with one another. And worst of all, so much loss of life. \\n\\nLet’s use this moment to reset. Let’s stop looking at COVID-19 as a partisan dividing line and see it for what it is: A God-awful disease.  \\n\\nLet’s stop seeing each other as enemies, and start seeing each other for who we really are: Fellow Americans.  \\n\\nWe can’t change how divided we’ve been. But we can change how we move forward—on COVID-19 and other issues we must face together. \\n\\nI recently visited the New York City Police Department days after the funerals of Officer Wilbert Mora and his partner, Officer Jason Rivera. \\n\\nThey were responding to a 9-1-1 call when a man shot and killed them with a stolen gun. \\n\\nOfficer Mora was 27 years old. \\n\\nOfficer Rivera was 22. \\n\\nBoth Dominican Americans who’d grown up on the same streets they later chose to patrol as police officers. \\n\\nI spoke with their families and told them that we are forever in debt for their sacrifice, and we will carry on their mission to restore the trust and safety every community deserves.\\nSource: 24-pl\\nContent: And a proud Ukrainian people, who have known 30 years  of independence, have repeatedly shown that they will not tolerate anyone who tries to take their country backwards.  \\n\\nTo all Americans, I will be honest with you, as I’ve always promised. A Russian dictator, invading a foreign country, has costs around the world. \\n\\nAnd I’m taking robust action to make sure the pain of our sanctions  is targeted at Russia’s economy. And I will use every tool at our disposal to protect American businesses and consumers. \\n\\nTonight, I can announce that the United States has worked with 30 other countries to release 60 Million barrels of oil from reserves around the world.  \\n\\nAmerica will lead that effort, releasing 30 Million barrels from our own Strategic Petroleum Reserve. And we stand ready to do more if necessary, unified with our allies.  \\n\\nThese steps will help blunt gas prices here at home. And I know the news about what’s happening can seem alarming. \\n\\nBut I want you to know that we are going to be okay.\\nSource: 5-pl\\nContent: More support for patients and families. \\n\\nTo get there, I call on Congress to fund ARPA-H, the Advanced Research Projects Agency for Health. \\n\\nIt’s based on DARPA—the Defense Department project that led to the Internet, GPS, and so much more.  \\n\\nARPA-H will have a singular purpose—to drive breakthroughs in cancer, Alzheimer’s, diabetes, and more. \\n\\nA unity agenda for the nation. \\n\\nWe can do this. \\n\\nMy fellow Americans—tonight , we have gathered in a sacred space—the citadel of our democracy. \\n\\nIn this Capitol, generation after generation, Americans have debated great questions amid great strife, and have done great things. \\n\\nWe have fought for freedom, expanded liberty, defeated totalitarianism and terror. \\n\\nAnd built the strongest, freest, and most prosperous nation the world has ever known. \\n\\nNow is the hour. \\n\\nOur moment of responsibility. \\n\\nOur test of resolve and conscience, of history itself. \\n\\nIt is in this moment that our character is formed. Our purpose is found. Our future is forged. \\n\\nWell I know this nation.\\nSource: 34-pl\\n=========\\nFINAL ANSWER: The president did not mention Michael Jackson.\\nSOURCES:\\n\\nQUESTION: {question}\\n=========\\n{summaries}\\n=========\\nFINAL ANSWER:'), llm=OpenAI(client=<openai.resources.completions.Completions object at 0x00000194AC16F8D0>, async_client=<openai.resources.completions.AsyncCompletions object at 0x00000194AC06C790>, temperature=0.9, max_tokens=500, openai_api_key='sk-proj-alk0bEm6RvQpN18aGMHhT3BlbkFJrTACFCOEP0Um6kY2V3In', openai_proxy='')), document_prompt=PromptTemplate(input_variables=['page_content', 'source'], template='Content: {page_content}\\nSource: {source}'), document_variable_name='summaries')), document_variable_name='context'), retriever=VectorStoreRetriever(tags=['FAISS', 'OpenAIEmbeddings'], vectorstore=<langchain_community.vectorstores.faiss.FAISS object at 0x00000194AC1F0B10>))"
      ]
     },
     "execution_count": 194,
     "metadata": {},
     "output_type": "execute_result"
    }
   ],
   "source": [
    "# chain = RetrievalQAWithSourcesChain.from_llm(llm=llm, retriever=vectorIndex.as_retriever())\n",
    "# chain\n",
    "\n",
    "chain = RetrievalQAWithSourcesChain.from_llm(llm=llm, retriever=vector_store.as_retriever())\n",
    "chain"
   ]
  },
  {
   "cell_type": "code",
   "execution_count": 199,
   "id": "8c2e228b",
   "metadata": {},
   "outputs": [
    {
     "name": "stdout",
     "output_type": "stream",
     "text": [
      "\u001b[32;1m\u001b[1;3m[chain/start]\u001b[0m \u001b[1m[chain:RetrievalQAWithSourcesChain] Entering Chain run with input:\n",
      "\u001b[0m{\n",
      "  \"question\": \"what is the price of Tesla in 2024?\"\n",
      "}\n",
      "\u001b[32;1m\u001b[1;3m[chain/start]\u001b[0m \u001b[1m[chain:RetrievalQAWithSourcesChain > chain:MapReduceDocumentsChain] Entering Chain run with input:\n",
      "\u001b[0m[inputs]\n",
      "\u001b[32;1m\u001b[1;3m[chain/start]\u001b[0m \u001b[1m[chain:RetrievalQAWithSourcesChain > chain:MapReduceDocumentsChain > chain:LLMChain] Entering Chain run with input:\n",
      "\u001b[0m{\n",
      "  \"input_list\": [\n",
      "    {\n",
      "      \"context\": \"In Germany, the carmaker trimmed the price of its Model 3 rear-wheel drive to €40,990 ($43,670.75) from €42,990, where the price has been since February.\\n\\nThere were also price cuts in many other countries in Europe, the Middle East and Africa, a Tesla spokesperson said.\\n\\nThe swathe of price cuts comes after the company reported this month that its global vehicle deliveries in the first quarter had fallen for the first time in nearly four years.\\n\\nTesla shares fell below $150 this week, wiping away all gains the company made in the past year. The vehicle manufacturer said on Monday that it was cutting 10% of its staff globally, about 14,000 jobs. Musk has also faced criticisms from investors who say he is stretched too thin after his purchase of the social media platform Twitter, which he renamed X, in 2022. Meanwhile, Tesla has asked its shareholders to vote in favor of Musk’s $56bn pay package, which was rejected this year by a judge who called it an “unfathomable sum”.\",\n",
      "      \"question\": \"what is the price of Tesla in 2024?\"\n",
      "    },\n",
      "    {\n",
      "      \"context\": \"What the Cybertruck’s many failures mean for TeslaRead more\\n\\nOn Friday, the company, led by the billionaire Elon Musk, cut the prices of the Model Y, a small SUV that is Tesla’s most popular model and the top-selling electric vehicle in the US, and also of the Models X and S, its older and more expensive models. Prices for the Model 3 sedan and the Cybertruck stayed the same.\\n\\nThe cuts reduced the starting price for a Model Y to $42,990, and to $72,990 for a Model S and $77,990 for a Model X.\\n\\nThen on Saturday, Tesla slashed the US price of its “Full Self-Driving” driver assistant software from $12,000 to $8,000.\\n\\nThe cuts continued on Sunday, when Tesla cut the starting price of the revamped Model 3 in China by 14,000 yuan ($1,930) to 231,900 yuan ($32,000), its official website showed.\\n\\nIn Germany, the carmaker trimmed the price of its Model 3 rear-wheel drive to €40,990 ($43,670.75) from €42,990, where the price has been since February.\",\n",
      "      \"question\": \"what is the price of Tesla in 2024?\"\n",
      "    },\n",
      "    {\n",
      "      \"context\": \"Tesla cuts prices in major markets as sales fall\\n\\nImage source, Getty Images\\n\\nImage caption,\\n\\nA price war has been intensifying between electric vehicle makers\\n\\nMariko Oi\\n\\nBusiness reporter\\n\\nPublished22 April 2024\\n\\nTesla has cut its prices again in a number of major markets - including the US, China and Germany - as the electric car giant run by multi-billionaire Elon Musk faces falling sales.\\n\\nThe move comes after it reported a sharp fall in its global vehicle deliveries in the first three months of this year.\\n\\nA price war has been intensifying between electric vehicle (EV) makers, with particularly fierce competition coming from Chinese firms.\\n\\nTesla is due to report financial results for the first quarter of 2024 after the US market close on Tuesday.\\n\\nIn a post on social media platform X, external, formerly Twitter, Mr Musk said: \\\"Tesla prices must change frequently in order to match production with demand.\\\"\",\n",
      "      \"question\": \"what is the price of Tesla in 2024?\"\n",
      "    },\n",
      "    {\n",
      "      \"context\": \"In a post on social media platform X, external, formerly Twitter, Mr Musk said: \\\"Tesla prices must change frequently in order to match production with demand.\\\"\\n\\nIn China, the firm cut the starting price of the revamped Model 3 in China by 14,000 yuan (£1,562) to 231,900 yuan.\\n\\nPrices of the Model Y, Model X and Model S vehicles in the US were reduced by $2,000 (£1,616) on Friday.\\n\\nThere were also price cuts in many other countries in Europe, the Middle East and Africa, according Reuters, the news agency.\\n\\nBBC News has contacted Tesla for comment.\\n\\nThe company triggered an EV price war over a year ago when it aggressively cut prices at the expense of profit margins.\\n\\nThe firm has been slow to refresh its ageing models while rivals in China, such as BYD and Nio, have been rolling out cheaper models. Chinese smartphone maker Xiaomi also launched its first EV last month.\\n\\nLast week, Tesla announced plans to lay off more than 10% of its global workforce.\",\n",
      "      \"question\": \"what is the price of Tesla in 2024?\"\n",
      "    }\n",
      "  ]\n",
      "}\n",
      "\u001b[32;1m\u001b[1;3m[llm/start]\u001b[0m \u001b[1m[chain:RetrievalQAWithSourcesChain > chain:MapReduceDocumentsChain > chain:LLMChain > llm:OpenAI] Entering LLM run with input:\n",
      "\u001b[0m{\n",
      "  \"prompts\": [\n",
      "    \"Use the following portion of a long document to see if any of the text is relevant to answer the question. \\nReturn any relevant text verbatim.\\nIn Germany, the carmaker trimmed the price of its Model 3 rear-wheel drive to €40,990 ($43,670.75) from €42,990, where the price has been since February.\\n\\nThere were also price cuts in many other countries in Europe, the Middle East and Africa, a Tesla spokesperson said.\\n\\nThe swathe of price cuts comes after the company reported this month that its global vehicle deliveries in the first quarter had fallen for the first time in nearly four years.\\n\\nTesla shares fell below $150 this week, wiping away all gains the company made in the past year. The vehicle manufacturer said on Monday that it was cutting 10% of its staff globally, about 14,000 jobs. Musk has also faced criticisms from investors who say he is stretched too thin after his purchase of the social media platform Twitter, which he renamed X, in 2022. Meanwhile, Tesla has asked its shareholders to vote in favor of Musk’s $56bn pay package, which was rejected this year by a judge who called it an “unfathomable sum”.\\nQuestion: what is the price of Tesla in 2024?\\nRelevant text, if any:\"\n",
      "  ]\n",
      "}\n",
      "\u001b[32;1m\u001b[1;3m[llm/start]\u001b[0m \u001b[1m[chain:RetrievalQAWithSourcesChain > chain:MapReduceDocumentsChain > chain:LLMChain > llm:OpenAI] Entering LLM run with input:\n",
      "\u001b[0m{\n",
      "  \"prompts\": [\n",
      "    \"Use the following portion of a long document to see if any of the text is relevant to answer the question. \\nReturn any relevant text verbatim.\\nWhat the Cybertruck’s many failures mean for TeslaRead more\\n\\nOn Friday, the company, led by the billionaire Elon Musk, cut the prices of the Model Y, a small SUV that is Tesla’s most popular model and the top-selling electric vehicle in the US, and also of the Models X and S, its older and more expensive models. Prices for the Model 3 sedan and the Cybertruck stayed the same.\\n\\nThe cuts reduced the starting price for a Model Y to $42,990, and to $72,990 for a Model S and $77,990 for a Model X.\\n\\nThen on Saturday, Tesla slashed the US price of its “Full Self-Driving” driver assistant software from $12,000 to $8,000.\\n\\nThe cuts continued on Sunday, when Tesla cut the starting price of the revamped Model 3 in China by 14,000 yuan ($1,930) to 231,900 yuan ($32,000), its official website showed.\\n\\nIn Germany, the carmaker trimmed the price of its Model 3 rear-wheel drive to €40,990 ($43,670.75) from €42,990, where the price has been since February.\\nQuestion: what is the price of Tesla in 2024?\\nRelevant text, if any:\"\n",
      "  ]\n",
      "}\n",
      "\u001b[32;1m\u001b[1;3m[llm/start]\u001b[0m \u001b[1m[chain:RetrievalQAWithSourcesChain > chain:MapReduceDocumentsChain > chain:LLMChain > llm:OpenAI] Entering LLM run with input:\n",
      "\u001b[0m{\n",
      "  \"prompts\": [\n",
      "    \"Use the following portion of a long document to see if any of the text is relevant to answer the question. \\nReturn any relevant text verbatim.\\nTesla cuts prices in major markets as sales fall\\n\\nImage source, Getty Images\\n\\nImage caption,\\n\\nA price war has been intensifying between electric vehicle makers\\n\\nMariko Oi\\n\\nBusiness reporter\\n\\nPublished22 April 2024\\n\\nTesla has cut its prices again in a number of major markets - including the US, China and Germany - as the electric car giant run by multi-billionaire Elon Musk faces falling sales.\\n\\nThe move comes after it reported a sharp fall in its global vehicle deliveries in the first three months of this year.\\n\\nA price war has been intensifying between electric vehicle (EV) makers, with particularly fierce competition coming from Chinese firms.\\n\\nTesla is due to report financial results for the first quarter of 2024 after the US market close on Tuesday.\\n\\nIn a post on social media platform X, external, formerly Twitter, Mr Musk said: \\\"Tesla prices must change frequently in order to match production with demand.\\\"\\nQuestion: what is the price of Tesla in 2024?\\nRelevant text, if any:\"\n",
      "  ]\n",
      "}\n",
      "\u001b[32;1m\u001b[1;3m[llm/start]\u001b[0m \u001b[1m[chain:RetrievalQAWithSourcesChain > chain:MapReduceDocumentsChain > chain:LLMChain > llm:OpenAI] Entering LLM run with input:\n",
      "\u001b[0m{\n",
      "  \"prompts\": [\n",
      "    \"Use the following portion of a long document to see if any of the text is relevant to answer the question. \\nReturn any relevant text verbatim.\\nIn a post on social media platform X, external, formerly Twitter, Mr Musk said: \\\"Tesla prices must change frequently in order to match production with demand.\\\"\\n\\nIn China, the firm cut the starting price of the revamped Model 3 in China by 14,000 yuan (£1,562) to 231,900 yuan.\\n\\nPrices of the Model Y, Model X and Model S vehicles in the US were reduced by $2,000 (£1,616) on Friday.\\n\\nThere were also price cuts in many other countries in Europe, the Middle East and Africa, according Reuters, the news agency.\\n\\nBBC News has contacted Tesla for comment.\\n\\nThe company triggered an EV price war over a year ago when it aggressively cut prices at the expense of profit margins.\\n\\nThe firm has been slow to refresh its ageing models while rivals in China, such as BYD and Nio, have been rolling out cheaper models. Chinese smartphone maker Xiaomi also launched its first EV last month.\\n\\nLast week, Tesla announced plans to lay off more than 10% of its global workforce.\\nQuestion: what is the price of Tesla in 2024?\\nRelevant text, if any:\"\n",
      "  ]\n",
      "}\n",
      "\u001b[36;1m\u001b[1;3m[llm/end]\u001b[0m \u001b[1m[chain:RetrievalQAWithSourcesChain > chain:MapReduceDocumentsChain > chain:LLMChain > llm:OpenAI] [1.79s] Exiting LLM run with output:\n",
      "\u001b[0m{\n",
      "  \"generations\": [\n",
      "    [\n",
      "      {\n",
      "        \"text\": \" There were also price cuts in many other countries in Europe, the Middle East and Africa, a Tesla spokesperson said.\",\n",
      "        \"generation_info\": {\n",
      "          \"finish_reason\": \"stop\",\n",
      "          \"logprobs\": null\n",
      "        },\n",
      "        \"type\": \"Generation\"\n",
      "      }\n",
      "    ]\n",
      "  ],\n",
      "  \"llm_output\": {\n",
      "    \"token_usage\": {\n",
      "      \"prompt_tokens\": 1060,\n",
      "      \"total_tokens\": 1293,\n",
      "      \"completion_tokens\": 233\n",
      "    },\n",
      "    \"model_name\": \"gpt-3.5-turbo-instruct\"\n",
      "  },\n",
      "  \"run\": null\n",
      "}\n",
      "\u001b[36;1m\u001b[1;3m[llm/end]\u001b[0m \u001b[1m[chain:RetrievalQAWithSourcesChain > chain:MapReduceDocumentsChain > chain:LLMChain > llm:OpenAI] [1.79s] Exiting LLM run with output:\n",
      "\u001b[0m{\n",
      "  \"generations\": [\n",
      "    [\n",
      "      {\n",
      "        \"text\": \" This portion of the document does not mention the price of Tesla in 2024. Therefore, there is no relevant text to return. \",\n",
      "        \"generation_info\": {\n",
      "          \"finish_reason\": \"stop\",\n",
      "          \"logprobs\": null\n",
      "        },\n",
      "        \"type\": \"Generation\"\n",
      "      }\n",
      "    ]\n",
      "  ],\n",
      "  \"llm_output\": {\n",
      "    \"token_usage\": {},\n",
      "    \"model_name\": \"gpt-3.5-turbo-instruct\"\n",
      "  },\n",
      "  \"run\": null\n",
      "}\n",
      "\u001b[36;1m\u001b[1;3m[llm/end]\u001b[0m \u001b[1m[chain:RetrievalQAWithSourcesChain > chain:MapReduceDocumentsChain > chain:LLMChain > llm:OpenAI] [1.79s] Exiting LLM run with output:\n",
      "\u001b[0m{\n",
      "  \"generations\": [\n",
      "    [\n",
      "      {\n",
      "        \"text\": \" Tesla has cut its prices again in a number of major markets...The move comes after it reported a sharp fall in its global vehicle deliveries in the first three months of this year...Tesla is due to report financial results for the first quarter of 2024 after the US market close on Tuesday. In a post on social media platform X, external, formerly Twitter, Mr Musk said: \\\"Tesla prices must change frequently in order to match production with demand.\\\"\",\n",
      "        \"generation_info\": {\n",
      "          \"finish_reason\": \"stop\",\n",
      "          \"logprobs\": null\n",
      "        },\n",
      "        \"type\": \"Generation\"\n",
      "      }\n",
      "    ]\n",
      "  ],\n",
      "  \"llm_output\": {\n",
      "    \"token_usage\": {},\n",
      "    \"model_name\": \"gpt-3.5-turbo-instruct\"\n",
      "  },\n",
      "  \"run\": null\n",
      "}\n",
      "\u001b[36;1m\u001b[1;3m[llm/end]\u001b[0m \u001b[1m[chain:RetrievalQAWithSourcesChain > chain:MapReduceDocumentsChain > chain:LLMChain > llm:OpenAI] [1.79s] Exiting LLM run with output:\n",
      "\u001b[0m{\n",
      "  \"generations\": [\n",
      "    [\n",
      "      {\n",
      "        \"text\": \" \\\"In China, the firm cut the starting price of the revamped Model 3 in China by 14,000 yuan (£1,562) to 231,900 yuan.\\\" Prices of the Model Y, Model X and Model S vehicles in the US were reduced by $2,000 (£1,616) on Friday. There were also price cuts in many other countries in Europe, the Middle East and Africa, according Reuters, the news agency.\",\n",
      "        \"generation_info\": {\n",
      "          \"finish_reason\": \"stop\",\n",
      "          \"logprobs\": null\n",
      "        },\n",
      "        \"type\": \"Generation\"\n",
      "      }\n",
      "    ]\n",
      "  ],\n",
      "  \"llm_output\": {\n",
      "    \"token_usage\": {},\n",
      "    \"model_name\": \"gpt-3.5-turbo-instruct\"\n",
      "  },\n",
      "  \"run\": null\n",
      "}\n",
      "\u001b[36;1m\u001b[1;3m[chain/end]\u001b[0m \u001b[1m[chain:RetrievalQAWithSourcesChain > chain:MapReduceDocumentsChain > chain:LLMChain] [1.79s] Exiting Chain run with output:\n",
      "\u001b[0m{\n",
      "  \"outputs\": [\n",
      "    {\n",
      "      \"text\": \" There were also price cuts in many other countries in Europe, the Middle East and Africa, a Tesla spokesperson said.\"\n",
      "    },\n",
      "    {\n",
      "      \"text\": \" This portion of the document does not mention the price of Tesla in 2024. Therefore, there is no relevant text to return. \"\n",
      "    },\n",
      "    {\n",
      "      \"text\": \" Tesla has cut its prices again in a number of major markets...The move comes after it reported a sharp fall in its global vehicle deliveries in the first three months of this year...Tesla is due to report financial results for the first quarter of 2024 after the US market close on Tuesday. In a post on social media platform X, external, formerly Twitter, Mr Musk said: \\\"Tesla prices must change frequently in order to match production with demand.\\\"\"\n",
      "    },\n",
      "    {\n",
      "      \"text\": \" \\\"In China, the firm cut the starting price of the revamped Model 3 in China by 14,000 yuan (£1,562) to 231,900 yuan.\\\" Prices of the Model Y, Model X and Model S vehicles in the US were reduced by $2,000 (£1,616) on Friday. There were also price cuts in many other countries in Europe, the Middle East and Africa, according Reuters, the news agency.\"\n",
      "    }\n",
      "  ]\n",
      "}\n",
      "\u001b[32;1m\u001b[1;3m[chain/start]\u001b[0m \u001b[1m[chain:RetrievalQAWithSourcesChain > chain:MapReduceDocumentsChain > chain:LLMChain] Entering Chain run with input:\n",
      "\u001b[0m{\n",
      "  \"question\": \"what is the price of Tesla in 2024?\",\n",
      "  \"summaries\": \"Content:  There were also price cuts in many other countries in Europe, the Middle East and Africa, a Tesla spokesperson said.\\nSource: https://www.theguardian.com/technology/2024/apr/21/tesla-sales-price-cuts-elon-musk\\n\\nContent:  This portion of the document does not mention the price of Tesla in 2024. Therefore, there is no relevant text to return. \\nSource: https://www.theguardian.com/technology/2024/apr/21/tesla-sales-price-cuts-elon-musk\\n\\nContent:  Tesla has cut its prices again in a number of major markets...The move comes after it reported a sharp fall in its global vehicle deliveries in the first three months of this year...Tesla is due to report financial results for the first quarter of 2024 after the US market close on Tuesday. In a post on social media platform X, external, formerly Twitter, Mr Musk said: \\\"Tesla prices must change frequently in order to match production with demand.\\\"\\nSource: https://www.bbc.co.uk/news/articles/c1d4g8jz57yo\\n\\nContent:  \\\"In China, the firm cut the starting price of the revamped Model 3 in China by 14,000 yuan (£1,562) to 231,900 yuan.\\\" Prices of the Model Y, Model X and Model S vehicles in the US were reduced by $2,000 (£1,616) on Friday. There were also price cuts in many other countries in Europe, the Middle East and Africa, according Reuters, the news agency.\\nSource: https://www.bbc.co.uk/news/articles/c1d4g8jz57yo\"\n",
      "}\n",
      "\u001b[32;1m\u001b[1;3m[llm/start]\u001b[0m \u001b[1m[chain:RetrievalQAWithSourcesChain > chain:MapReduceDocumentsChain > chain:LLMChain > llm:OpenAI] Entering LLM run with input:\n",
      "\u001b[0m{\n",
      "  \"prompts\": [\n",
      "    \"Given the following extracted parts of a long document and a question, create a final answer with references (\\\"SOURCES\\\"). \\nIf you don't know the answer, just say that you don't know. Don't try to make up an answer.\\nALWAYS return a \\\"SOURCES\\\" part in your answer.\\n\\nQUESTION: Which state/country's law governs the interpretation of the contract?\\n=========\\nContent: This Agreement is governed by English law and the parties submit to the exclusive jurisdiction of the English courts in  relation to any dispute (contractual or non-contractual) concerning this Agreement save that either party may apply to any court for an  injunction or other relief to protect its Intellectual Property Rights.\\nSource: 28-pl\\nContent: No Waiver. Failure or delay in exercising any right or remedy under this Agreement shall not constitute a waiver of such (or any other)  right or remedy.\\n\\n11.7 Severability. The invalidity, illegality or unenforceability of any term (or part of a term) of this Agreement shall not affect the continuation  in force of the remainder of the term (if any) and this Agreement.\\n\\n11.8 No Agency. Except as expressly stated otherwise, nothing in this Agreement shall create an agency, partnership or joint venture of any  kind between the parties.\\n\\n11.9 No Third-Party Beneficiaries.\\nSource: 30-pl\\nContent: (b) if Google believes, in good faith, that the Distributor has violated or caused Google to violate any Anti-Bribery Laws (as  defined in Clause 8.5) or that such a violation is reasonably likely to occur,\\nSource: 4-pl\\n=========\\nFINAL ANSWER: This Agreement is governed by English law.\\nSOURCES: 28-pl\\n\\nQUESTION: What did the president say about Michael Jackson?\\n=========\\nContent: Madam Speaker, Madam Vice President, our First Lady and Second Gentleman. Members of Congress and the Cabinet. Justices of the Supreme Court. My fellow Americans.  \\n\\nLast year COVID-19 kept us apart. This year we are finally together again. \\n\\nTonight, we meet as Democrats Republicans and Independents. But most importantly as Americans. \\n\\nWith a duty to one another to the American people to the Constitution. \\n\\nAnd with an unwavering resolve that freedom will always triumph over tyranny. \\n\\nSix days ago, Russia’s Vladimir Putin sought to shake the foundations of the free world thinking he could make it bend to his menacing ways. But he badly miscalculated. \\n\\nHe thought he could roll into Ukraine and the world would roll over. Instead he met a wall of strength he never imagined. \\n\\nHe met the Ukrainian people. \\n\\nFrom President Zelenskyy to every Ukrainian, their fearlessness, their courage, their determination, inspires the world. \\n\\nGroups of citizens blocking tanks with their bodies. Everyone from students to retirees teachers turned soldiers defending their homeland.\\nSource: 0-pl\\nContent: And we won’t stop. \\n\\nWe have lost so much to COVID-19. Time with one another. And worst of all, so much loss of life. \\n\\nLet’s use this moment to reset. Let’s stop looking at COVID-19 as a partisan dividing line and see it for what it is: A God-awful disease.  \\n\\nLet’s stop seeing each other as enemies, and start seeing each other for who we really are: Fellow Americans.  \\n\\nWe can’t change how divided we’ve been. But we can change how we move forward—on COVID-19 and other issues we must face together. \\n\\nI recently visited the New York City Police Department days after the funerals of Officer Wilbert Mora and his partner, Officer Jason Rivera. \\n\\nThey were responding to a 9-1-1 call when a man shot and killed them with a stolen gun. \\n\\nOfficer Mora was 27 years old. \\n\\nOfficer Rivera was 22. \\n\\nBoth Dominican Americans who’d grown up on the same streets they later chose to patrol as police officers. \\n\\nI spoke with their families and told them that we are forever in debt for their sacrifice, and we will carry on their mission to restore the trust and safety every community deserves.\\nSource: 24-pl\\nContent: And a proud Ukrainian people, who have known 30 years  of independence, have repeatedly shown that they will not tolerate anyone who tries to take their country backwards.  \\n\\nTo all Americans, I will be honest with you, as I’ve always promised. A Russian dictator, invading a foreign country, has costs around the world. \\n\\nAnd I’m taking robust action to make sure the pain of our sanctions  is targeted at Russia’s economy. And I will use every tool at our disposal to protect American businesses and consumers. \\n\\nTonight, I can announce that the United States has worked with 30 other countries to release 60 Million barrels of oil from reserves around the world.  \\n\\nAmerica will lead that effort, releasing 30 Million barrels from our own Strategic Petroleum Reserve. And we stand ready to do more if necessary, unified with our allies.  \\n\\nThese steps will help blunt gas prices here at home. And I know the news about what’s happening can seem alarming. \\n\\nBut I want you to know that we are going to be okay.\\nSource: 5-pl\\nContent: More support for patients and families. \\n\\nTo get there, I call on Congress to fund ARPA-H, the Advanced Research Projects Agency for Health. \\n\\nIt’s based on DARPA—the Defense Department project that led to the Internet, GPS, and so much more.  \\n\\nARPA-H will have a singular purpose—to drive breakthroughs in cancer, Alzheimer’s, diabetes, and more. \\n\\nA unity agenda for the nation. \\n\\nWe can do this. \\n\\nMy fellow Americans—tonight , we have gathered in a sacred space—the citadel of our democracy. \\n\\nIn this Capitol, generation after generation, Americans have debated great questions amid great strife, and have done great things. \\n\\nWe have fought for freedom, expanded liberty, defeated totalitarianism and terror. \\n\\nAnd built the strongest, freest, and most prosperous nation the world has ever known. \\n\\nNow is the hour. \\n\\nOur moment of responsibility. \\n\\nOur test of resolve and conscience, of history itself. \\n\\nIt is in this moment that our character is formed. Our purpose is found. Our future is forged. \\n\\nWell I know this nation.\\nSource: 34-pl\\n=========\\nFINAL ANSWER: The president did not mention Michael Jackson.\\nSOURCES:\\n\\nQUESTION: what is the price of Tesla in 2024?\\n=========\\nContent:  There were also price cuts in many other countries in Europe, the Middle East and Africa, a Tesla spokesperson said.\\nSource: https://www.theguardian.com/technology/2024/apr/21/tesla-sales-price-cuts-elon-musk\\n\\nContent:  This portion of the document does not mention the price of Tesla in 2024. Therefore, there is no relevant text to return. \\nSource: https://www.theguardian.com/technology/2024/apr/21/tesla-sales-price-cuts-elon-musk\\n\\nContent:  Tesla has cut its prices again in a number of major markets...The move comes after it reported a sharp fall in its global vehicle deliveries in the first three months of this year...Tesla is due to report financial results for the first quarter of 2024 after the US market close on Tuesday. In a post on social media platform X, external, formerly Twitter, Mr Musk said: \\\"Tesla prices must change frequently in order to match production with demand.\\\"\\nSource: https://www.bbc.co.uk/news/articles/c1d4g8jz57yo\\n\\nContent:  \\\"In China, the firm cut the starting price of the revamped Model 3 in China by 14,000 yuan (£1,562) to 231,900 yuan.\\\" Prices of the Model Y, Model X and Model S vehicles in the US were reduced by $2,000 (£1,616) on Friday. There were also price cuts in many other countries in Europe, the Middle East and Africa, according Reuters, the news agency.\\nSource: https://www.bbc.co.uk/news/articles/c1d4g8jz57yo\\n=========\\nFINAL ANSWER:\"\n",
      "  ]\n",
      "}\n",
      "\u001b[36;1m\u001b[1;3m[llm/end]\u001b[0m \u001b[1m[chain:RetrievalQAWithSourcesChain > chain:MapReduceDocumentsChain > chain:LLMChain > llm:OpenAI] [1.40s] Exiting LLM run with output:\n",
      "\u001b[0m{\n",
      "  \"generations\": [\n",
      "    [\n",
      "      {\n",
      "        \"text\": \" The price of Tesla in 2024 is not mentioned in these texts. \\nSOURCES: https://www.theguardian.com/technology/2024/apr/21/tesla-sales-price-cuts-elon-musk, https://www.bbc.co.uk/news/articles/c1d4g8jz57yo\",\n",
      "        \"generation_info\": {\n",
      "          \"finish_reason\": \"stop\",\n",
      "          \"logprobs\": null\n",
      "        },\n",
      "        \"type\": \"Generation\"\n",
      "      }\n",
      "    ]\n",
      "  ],\n",
      "  \"llm_output\": {\n",
      "    \"token_usage\": {\n",
      "      \"prompt_tokens\": 1701,\n",
      "      \"total_tokens\": 1767,\n",
      "      \"completion_tokens\": 66\n",
      "    },\n",
      "    \"model_name\": \"gpt-3.5-turbo-instruct\"\n",
      "  },\n",
      "  \"run\": null\n",
      "}\n",
      "\u001b[36;1m\u001b[1;3m[chain/end]\u001b[0m \u001b[1m[chain:RetrievalQAWithSourcesChain > chain:MapReduceDocumentsChain > chain:LLMChain] [1.41s] Exiting Chain run with output:\n",
      "\u001b[0m{\n",
      "  \"text\": \" The price of Tesla in 2024 is not mentioned in these texts. \\nSOURCES: https://www.theguardian.com/technology/2024/apr/21/tesla-sales-price-cuts-elon-musk, https://www.bbc.co.uk/news/articles/c1d4g8jz57yo\"\n",
      "}\n",
      "\u001b[36;1m\u001b[1;3m[chain/end]\u001b[0m \u001b[1m[chain:RetrievalQAWithSourcesChain > chain:MapReduceDocumentsChain] [3.20s] Exiting Chain run with output:\n",
      "\u001b[0m{\n",
      "  \"output_text\": \" The price of Tesla in 2024 is not mentioned in these texts. \\nSOURCES: https://www.theguardian.com/technology/2024/apr/21/tesla-sales-price-cuts-elon-musk, https://www.bbc.co.uk/news/articles/c1d4g8jz57yo\"\n",
      "}\n",
      "\u001b[36;1m\u001b[1;3m[chain/end]\u001b[0m \u001b[1m[chain:RetrievalQAWithSourcesChain] [3.57s] Exiting Chain run with output:\n",
      "\u001b[0m{\n",
      "  \"answer\": \" The price of Tesla in 2024 is not mentioned in these texts. \\n\",\n",
      "  \"sources\": \"https://www.theguardian.com/technology/2024/apr/21/tesla-sales-price-cuts-elon-musk, https://www.bbc.co.uk/news/articles/c1d4g8jz57yo\"\n",
      "}\n",
      "{'answer': ' The price of Tesla in 2024 is not mentioned in these texts. \\n', 'sources': 'https://www.theguardian.com/technology/2024/apr/21/tesla-sales-price-cuts-elon-musk, https://www.bbc.co.uk/news/articles/c1d4g8jz57yo'}\n"
     ]
    }
   ],
   "source": [
    "# Define the query\n",
    "query = \"what is the price of Tesla in 2024?\"\n",
    "# query = \"what are the main features of punch iCNG?\"\n",
    "\n",
    "# Enable debugging\n",
    "langchain.debug = True\n",
    "\n",
    "# Invoke the chain\n",
    "try:\n",
    "    result = chain.invoke({\"question\": query}, return_only_outputs=True)\n",
    "    print(result)\n",
    "except Exception as e:\n",
    "    print(f\"Error: {e}\")\n",
    "    \n",
    "# # Invoke the chain\n",
    "# chain.invoke({\"question\": query}, return_only_outputs=True)"
   ]
  },
  {
   "cell_type": "code",
   "execution_count": 198,
   "id": "a10d8b54-bc15-4f61-99e6-a40a65851d42",
   "metadata": {},
   "outputs": [
    {
     "name": "stdout",
     "output_type": "stream",
     "text": [
      "\u001b[32;1m\u001b[1;3m[chain/start]\u001b[0m \u001b[1m[chain:RetrievalQAWithSourcesChain] Entering Chain run with input:\n",
      "\u001b[0m{\n",
      "  \"question\": \"what are the main reasons for the price cut?\"\n",
      "}\n",
      "\u001b[32;1m\u001b[1;3m[chain/start]\u001b[0m \u001b[1m[chain:RetrievalQAWithSourcesChain > chain:MapReduceDocumentsChain] Entering Chain run with input:\n",
      "\u001b[0m[inputs]\n",
      "\u001b[32;1m\u001b[1;3m[chain/start]\u001b[0m \u001b[1m[chain:RetrievalQAWithSourcesChain > chain:MapReduceDocumentsChain > chain:LLMChain] Entering Chain run with input:\n",
      "\u001b[0m{\n",
      "  \"input_list\": [\n",
      "    {\n",
      "      \"context\": \"Tesla cuts prices in major markets as sales fall\\n\\nImage source, Getty Images\\n\\nImage caption,\\n\\nA price war has been intensifying between electric vehicle makers\\n\\nMariko Oi\\n\\nBusiness reporter\\n\\nPublished22 April 2024\\n\\nTesla has cut its prices again in a number of major markets - including the US, China and Germany - as the electric car giant run by multi-billionaire Elon Musk faces falling sales.\\n\\nThe move comes after it reported a sharp fall in its global vehicle deliveries in the first three months of this year.\\n\\nA price war has been intensifying between electric vehicle (EV) makers, with particularly fierce competition coming from Chinese firms.\\n\\nTesla is due to report financial results for the first quarter of 2024 after the US market close on Tuesday.\\n\\nIn a post on social media platform X, external, formerly Twitter, Mr Musk said: \\\"Tesla prices must change frequently in order to match production with demand.\\\"\",\n",
      "      \"question\": \"what are the main reasons for the price cut?\"\n",
      "    },\n",
      "    {\n",
      "      \"context\": \"In a post on social media platform X, external, formerly Twitter, Mr Musk said: \\\"Tesla prices must change frequently in order to match production with demand.\\\"\\n\\nIn China, the firm cut the starting price of the revamped Model 3 in China by 14,000 yuan (£1,562) to 231,900 yuan.\\n\\nPrices of the Model Y, Model X and Model S vehicles in the US were reduced by $2,000 (£1,616) on Friday.\\n\\nThere were also price cuts in many other countries in Europe, the Middle East and Africa, according Reuters, the news agency.\\n\\nBBC News has contacted Tesla for comment.\\n\\nThe company triggered an EV price war over a year ago when it aggressively cut prices at the expense of profit margins.\\n\\nThe firm has been slow to refresh its ageing models while rivals in China, such as BYD and Nio, have been rolling out cheaper models. Chinese smartphone maker Xiaomi also launched its first EV last month.\\n\\nLast week, Tesla announced plans to lay off more than 10% of its global workforce.\",\n",
      "      \"question\": \"what are the main reasons for the price cut?\"\n",
      "    },\n",
      "    {\n",
      "      \"context\": \"The starting price for the Model X was reduced to $77,990 in the US. Photograph: David Zalubowski/AP\\n\\nView image in fullscreen\\n\\nThe starting price for the Model X was reduced to $77,990 in the US. Photograph: David Zalubowski/AP\\n\\nTesla\\n\\nTesla cuts prices around the world as sales decline in a chaotic week\\n\\nThis article is more than 2 months old\\n\\nGlobal vehicle deliveries fall for first time in four years amid growing competition, while Cybertruck faces recall\\n\\nGuardian staff and agencies\\n\\nSun 21 Apr 2024 18.46 BST\\n\\nShare\\n\\nTesla slashed prices of three of its five models in the US late on Friday, then went on to cut prices around the globe – including in China and Germany – as the company faces falling sales, a Cybertruck recall and an intensifying war for electric vehicles (EVs).\\n\\nWhat the Cybertruck’s many failures mean for TeslaRead more\",\n",
      "      \"question\": \"what are the main reasons for the price cut?\"\n",
      "    },\n",
      "    {\n",
      "      \"context\": \"In Germany, the carmaker trimmed the price of its Model 3 rear-wheel drive to €40,990 ($43,670.75) from €42,990, where the price has been since February.\\n\\nThere were also price cuts in many other countries in Europe, the Middle East and Africa, a Tesla spokesperson said.\\n\\nThe swathe of price cuts comes after the company reported this month that its global vehicle deliveries in the first quarter had fallen for the first time in nearly four years.\\n\\nTesla shares fell below $150 this week, wiping away all gains the company made in the past year. The vehicle manufacturer said on Monday that it was cutting 10% of its staff globally, about 14,000 jobs. Musk has also faced criticisms from investors who say he is stretched too thin after his purchase of the social media platform Twitter, which he renamed X, in 2022. Meanwhile, Tesla has asked its shareholders to vote in favor of Musk’s $56bn pay package, which was rejected this year by a judge who called it an “unfathomable sum”.\",\n",
      "      \"question\": \"what are the main reasons for the price cut?\"\n",
      "    }\n",
      "  ]\n",
      "}\n",
      "\u001b[32;1m\u001b[1;3m[llm/start]\u001b[0m \u001b[1m[chain:RetrievalQAWithSourcesChain > chain:MapReduceDocumentsChain > chain:LLMChain > llm:OpenAI] Entering LLM run with input:\n",
      "\u001b[0m{\n",
      "  \"prompts\": [\n",
      "    \"Use the following portion of a long document to see if any of the text is relevant to answer the question. \\nReturn any relevant text verbatim.\\nTesla cuts prices in major markets as sales fall\\n\\nImage source, Getty Images\\n\\nImage caption,\\n\\nA price war has been intensifying between electric vehicle makers\\n\\nMariko Oi\\n\\nBusiness reporter\\n\\nPublished22 April 2024\\n\\nTesla has cut its prices again in a number of major markets - including the US, China and Germany - as the electric car giant run by multi-billionaire Elon Musk faces falling sales.\\n\\nThe move comes after it reported a sharp fall in its global vehicle deliveries in the first three months of this year.\\n\\nA price war has been intensifying between electric vehicle (EV) makers, with particularly fierce competition coming from Chinese firms.\\n\\nTesla is due to report financial results for the first quarter of 2024 after the US market close on Tuesday.\\n\\nIn a post on social media platform X, external, formerly Twitter, Mr Musk said: \\\"Tesla prices must change frequently in order to match production with demand.\\\"\\nQuestion: what are the main reasons for the price cut?\\nRelevant text, if any:\"\n",
      "  ]\n",
      "}\n",
      "\u001b[32;1m\u001b[1;3m[llm/start]\u001b[0m \u001b[1m[chain:RetrievalQAWithSourcesChain > chain:MapReduceDocumentsChain > chain:LLMChain > llm:OpenAI] Entering LLM run with input:\n",
      "\u001b[0m{\n",
      "  \"prompts\": [\n",
      "    \"Use the following portion of a long document to see if any of the text is relevant to answer the question. \\nReturn any relevant text verbatim.\\nIn a post on social media platform X, external, formerly Twitter, Mr Musk said: \\\"Tesla prices must change frequently in order to match production with demand.\\\"\\n\\nIn China, the firm cut the starting price of the revamped Model 3 in China by 14,000 yuan (£1,562) to 231,900 yuan.\\n\\nPrices of the Model Y, Model X and Model S vehicles in the US were reduced by $2,000 (£1,616) on Friday.\\n\\nThere were also price cuts in many other countries in Europe, the Middle East and Africa, according Reuters, the news agency.\\n\\nBBC News has contacted Tesla for comment.\\n\\nThe company triggered an EV price war over a year ago when it aggressively cut prices at the expense of profit margins.\\n\\nThe firm has been slow to refresh its ageing models while rivals in China, such as BYD and Nio, have been rolling out cheaper models. Chinese smartphone maker Xiaomi also launched its first EV last month.\\n\\nLast week, Tesla announced plans to lay off more than 10% of its global workforce.\\nQuestion: what are the main reasons for the price cut?\\nRelevant text, if any:\"\n",
      "  ]\n",
      "}\n",
      "\u001b[32;1m\u001b[1;3m[llm/start]\u001b[0m \u001b[1m[chain:RetrievalQAWithSourcesChain > chain:MapReduceDocumentsChain > chain:LLMChain > llm:OpenAI] Entering LLM run with input:\n",
      "\u001b[0m{\n",
      "  \"prompts\": [\n",
      "    \"Use the following portion of a long document to see if any of the text is relevant to answer the question. \\nReturn any relevant text verbatim.\\nThe starting price for the Model X was reduced to $77,990 in the US. Photograph: David Zalubowski/AP\\n\\nView image in fullscreen\\n\\nThe starting price for the Model X was reduced to $77,990 in the US. Photograph: David Zalubowski/AP\\n\\nTesla\\n\\nTesla cuts prices around the world as sales decline in a chaotic week\\n\\nThis article is more than 2 months old\\n\\nGlobal vehicle deliveries fall for first time in four years amid growing competition, while Cybertruck faces recall\\n\\nGuardian staff and agencies\\n\\nSun 21 Apr 2024 18.46 BST\\n\\nShare\\n\\nTesla slashed prices of three of its five models in the US late on Friday, then went on to cut prices around the globe – including in China and Germany – as the company faces falling sales, a Cybertruck recall and an intensifying war for electric vehicles (EVs).\\n\\nWhat the Cybertruck’s many failures mean for TeslaRead more\\nQuestion: what are the main reasons for the price cut?\\nRelevant text, if any:\"\n",
      "  ]\n",
      "}\n",
      "\u001b[32;1m\u001b[1;3m[llm/start]\u001b[0m \u001b[1m[chain:RetrievalQAWithSourcesChain > chain:MapReduceDocumentsChain > chain:LLMChain > llm:OpenAI] Entering LLM run with input:\n",
      "\u001b[0m{\n",
      "  \"prompts\": [\n",
      "    \"Use the following portion of a long document to see if any of the text is relevant to answer the question. \\nReturn any relevant text verbatim.\\nIn Germany, the carmaker trimmed the price of its Model 3 rear-wheel drive to €40,990 ($43,670.75) from €42,990, where the price has been since February.\\n\\nThere were also price cuts in many other countries in Europe, the Middle East and Africa, a Tesla spokesperson said.\\n\\nThe swathe of price cuts comes after the company reported this month that its global vehicle deliveries in the first quarter had fallen for the first time in nearly four years.\\n\\nTesla shares fell below $150 this week, wiping away all gains the company made in the past year. The vehicle manufacturer said on Monday that it was cutting 10% of its staff globally, about 14,000 jobs. Musk has also faced criticisms from investors who say he is stretched too thin after his purchase of the social media platform Twitter, which he renamed X, in 2022. Meanwhile, Tesla has asked its shareholders to vote in favor of Musk’s $56bn pay package, which was rejected this year by a judge who called it an “unfathomable sum”.\\nQuestion: what are the main reasons for the price cut?\\nRelevant text, if any:\"\n",
      "  ]\n",
      "}\n",
      "\u001b[36;1m\u001b[1;3m[llm/end]\u001b[0m \u001b[1m[chain:RetrievalQAWithSourcesChain > chain:MapReduceDocumentsChain > chain:LLMChain > llm:OpenAI] [2.70s] Exiting LLM run with output:\n",
      "\u001b[0m{\n",
      "  \"generations\": [\n",
      "    [\n",
      "      {\n",
      "        \"text\": \" \\nThe move comes after it reported a sharp fall in its global vehicle deliveries in the first three months of this year. A price war has been intensifying between electric vehicle (EV) makers, with particularly fierce competition coming from Chinese firms.\",\n",
      "        \"generation_info\": {\n",
      "          \"finish_reason\": \"stop\",\n",
      "          \"logprobs\": null\n",
      "        },\n",
      "        \"type\": \"Generation\"\n",
      "      }\n",
      "    ]\n",
      "  ],\n",
      "  \"llm_output\": {\n",
      "    \"token_usage\": {\n",
      "      \"prompt_tokens\": 1008,\n",
      "      \"total_tokens\": 1261,\n",
      "      \"completion_tokens\": 253\n",
      "    },\n",
      "    \"model_name\": \"gpt-3.5-turbo-instruct\"\n",
      "  },\n",
      "  \"run\": null\n",
      "}\n",
      "\u001b[36;1m\u001b[1;3m[llm/end]\u001b[0m \u001b[1m[chain:RetrievalQAWithSourcesChain > chain:MapReduceDocumentsChain > chain:LLMChain > llm:OpenAI] [2.70s] Exiting LLM run with output:\n",
      "\u001b[0m{\n",
      "  \"generations\": [\n",
      "    [\n",
      "      {\n",
      "        \"text\": \" \\n\\\"Tesla prices must change frequently in order to match production with demand.\\\"\\n\\\"In China, the firm cut the starting price of the revamped Model 3 in China by 14,000 yuan (£1,562) to 231,900 yuan.\\\"\\n\\\"Prices of the Model Y, Model X and Model S vehicles in the US were reduced by $2,000 (£1,616) on Friday.\\\"\\n\\\"The company triggered an EV price war over a year ago when it aggressively cut prices at the expense of profit margins.\\\"\\n\\\"The firm has been slow to refresh its ageing models while rivals in China, such as BYD and Nio, have been rolling out cheaper models. Chinese smartphone maker Xiaomi also launched its first EV last month.\\\"\",\n",
      "        \"generation_info\": {\n",
      "          \"finish_reason\": \"stop\",\n",
      "          \"logprobs\": null\n",
      "        },\n",
      "        \"type\": \"Generation\"\n",
      "      }\n",
      "    ]\n",
      "  ],\n",
      "  \"llm_output\": {\n",
      "    \"token_usage\": {},\n",
      "    \"model_name\": \"gpt-3.5-turbo-instruct\"\n",
      "  },\n",
      "  \"run\": null\n",
      "}\n",
      "\u001b[36;1m\u001b[1;3m[llm/end]\u001b[0m \u001b[1m[chain:RetrievalQAWithSourcesChain > chain:MapReduceDocumentsChain > chain:LLMChain > llm:OpenAI] [2.70s] Exiting LLM run with output:\n",
      "\u001b[0m{\n",
      "  \"generations\": [\n",
      "    [\n",
      "      {\n",
      "        \"text\": \" The article mentions that Tesla has slashed prices of its models in the US and globally due to falling sales, a Cybertruck recall, and increasing competition in the EV market.\",\n",
      "        \"generation_info\": {\n",
      "          \"finish_reason\": \"stop\",\n",
      "          \"logprobs\": null\n",
      "        },\n",
      "        \"type\": \"Generation\"\n",
      "      }\n",
      "    ]\n",
      "  ],\n",
      "  \"llm_output\": {\n",
      "    \"token_usage\": {},\n",
      "    \"model_name\": \"gpt-3.5-turbo-instruct\"\n",
      "  },\n",
      "  \"run\": null\n",
      "}\n",
      "\u001b[36;1m\u001b[1;3m[llm/end]\u001b[0m \u001b[1m[chain:RetrievalQAWithSourcesChain > chain:MapReduceDocumentsChain > chain:LLMChain > llm:OpenAI] [2.70s] Exiting LLM run with output:\n",
      "\u001b[0m{\n",
      "  \"generations\": [\n",
      "    [\n",
      "      {\n",
      "        \"text\": \" \\\"There were also price cuts in many other countries in Europe, the Middle East and Africa, a Tesla spokesperson said.\\\"\",\n",
      "        \"generation_info\": {\n",
      "          \"finish_reason\": \"stop\",\n",
      "          \"logprobs\": null\n",
      "        },\n",
      "        \"type\": \"Generation\"\n",
      "      }\n",
      "    ]\n",
      "  ],\n",
      "  \"llm_output\": {\n",
      "    \"token_usage\": {},\n",
      "    \"model_name\": \"gpt-3.5-turbo-instruct\"\n",
      "  },\n",
      "  \"run\": null\n",
      "}\n",
      "\u001b[36;1m\u001b[1;3m[chain/end]\u001b[0m \u001b[1m[chain:RetrievalQAWithSourcesChain > chain:MapReduceDocumentsChain > chain:LLMChain] [2.70s] Exiting Chain run with output:\n",
      "\u001b[0m{\n",
      "  \"outputs\": [\n",
      "    {\n",
      "      \"text\": \" \\nThe move comes after it reported a sharp fall in its global vehicle deliveries in the first three months of this year. A price war has been intensifying between electric vehicle (EV) makers, with particularly fierce competition coming from Chinese firms.\"\n",
      "    },\n",
      "    {\n",
      "      \"text\": \" \\n\\\"Tesla prices must change frequently in order to match production with demand.\\\"\\n\\\"In China, the firm cut the starting price of the revamped Model 3 in China by 14,000 yuan (£1,562) to 231,900 yuan.\\\"\\n\\\"Prices of the Model Y, Model X and Model S vehicles in the US were reduced by $2,000 (£1,616) on Friday.\\\"\\n\\\"The company triggered an EV price war over a year ago when it aggressively cut prices at the expense of profit margins.\\\"\\n\\\"The firm has been slow to refresh its ageing models while rivals in China, such as BYD and Nio, have been rolling out cheaper models. Chinese smartphone maker Xiaomi also launched its first EV last month.\\\"\"\n",
      "    },\n",
      "    {\n",
      "      \"text\": \" The article mentions that Tesla has slashed prices of its models in the US and globally due to falling sales, a Cybertruck recall, and increasing competition in the EV market.\"\n",
      "    },\n",
      "    {\n",
      "      \"text\": \" \\\"There were also price cuts in many other countries in Europe, the Middle East and Africa, a Tesla spokesperson said.\\\"\"\n",
      "    }\n",
      "  ]\n",
      "}\n",
      "\u001b[32;1m\u001b[1;3m[chain/start]\u001b[0m \u001b[1m[chain:RetrievalQAWithSourcesChain > chain:MapReduceDocumentsChain > chain:LLMChain] Entering Chain run with input:\n",
      "\u001b[0m{\n",
      "  \"question\": \"what are the main reasons for the price cut?\",\n",
      "  \"summaries\": \"Content:  \\nThe move comes after it reported a sharp fall in its global vehicle deliveries in the first three months of this year. A price war has been intensifying between electric vehicle (EV) makers, with particularly fierce competition coming from Chinese firms.\\nSource: https://www.bbc.co.uk/news/articles/c1d4g8jz57yo\\n\\nContent:  \\n\\\"Tesla prices must change frequently in order to match production with demand.\\\"\\n\\\"In China, the firm cut the starting price of the revamped Model 3 in China by 14,000 yuan (£1,562) to 231,900 yuan.\\\"\\n\\\"Prices of the Model Y, Model X and Model S vehicles in the US were reduced by $2,000 (£1,616) on Friday.\\\"\\n\\\"The company triggered an EV price war over a year ago when it aggressively cut prices at the expense of profit margins.\\\"\\n\\\"The firm has been slow to refresh its ageing models while rivals in China, such as BYD and Nio, have been rolling out cheaper models. Chinese smartphone maker Xiaomi also launched its first EV last month.\\\"\\nSource: https://www.bbc.co.uk/news/articles/c1d4g8jz57yo\\n\\nContent:  The article mentions that Tesla has slashed prices of its models in the US and globally due to falling sales, a Cybertruck recall, and increasing competition in the EV market.\\nSource: https://www.theguardian.com/technology/2024/apr/21/tesla-sales-price-cuts-elon-musk\\n\\nContent:  \\\"There were also price cuts in many other countries in Europe, the Middle East and Africa, a Tesla spokesperson said.\\\"\\nSource: https://www.theguardian.com/technology/2024/apr/21/tesla-sales-price-cuts-elon-musk\"\n",
      "}\n",
      "\u001b[32;1m\u001b[1;3m[llm/start]\u001b[0m \u001b[1m[chain:RetrievalQAWithSourcesChain > chain:MapReduceDocumentsChain > chain:LLMChain > llm:OpenAI] Entering LLM run with input:\n",
      "\u001b[0m{\n",
      "  \"prompts\": [\n",
      "    \"Given the following extracted parts of a long document and a question, create a final answer with references (\\\"SOURCES\\\"). \\nIf you don't know the answer, just say that you don't know. Don't try to make up an answer.\\nALWAYS return a \\\"SOURCES\\\" part in your answer.\\n\\nQUESTION: Which state/country's law governs the interpretation of the contract?\\n=========\\nContent: This Agreement is governed by English law and the parties submit to the exclusive jurisdiction of the English courts in  relation to any dispute (contractual or non-contractual) concerning this Agreement save that either party may apply to any court for an  injunction or other relief to protect its Intellectual Property Rights.\\nSource: 28-pl\\nContent: No Waiver. Failure or delay in exercising any right or remedy under this Agreement shall not constitute a waiver of such (or any other)  right or remedy.\\n\\n11.7 Severability. The invalidity, illegality or unenforceability of any term (or part of a term) of this Agreement shall not affect the continuation  in force of the remainder of the term (if any) and this Agreement.\\n\\n11.8 No Agency. Except as expressly stated otherwise, nothing in this Agreement shall create an agency, partnership or joint venture of any  kind between the parties.\\n\\n11.9 No Third-Party Beneficiaries.\\nSource: 30-pl\\nContent: (b) if Google believes, in good faith, that the Distributor has violated or caused Google to violate any Anti-Bribery Laws (as  defined in Clause 8.5) or that such a violation is reasonably likely to occur,\\nSource: 4-pl\\n=========\\nFINAL ANSWER: This Agreement is governed by English law.\\nSOURCES: 28-pl\\n\\nQUESTION: What did the president say about Michael Jackson?\\n=========\\nContent: Madam Speaker, Madam Vice President, our First Lady and Second Gentleman. Members of Congress and the Cabinet. Justices of the Supreme Court. My fellow Americans.  \\n\\nLast year COVID-19 kept us apart. This year we are finally together again. \\n\\nTonight, we meet as Democrats Republicans and Independents. But most importantly as Americans. \\n\\nWith a duty to one another to the American people to the Constitution. \\n\\nAnd with an unwavering resolve that freedom will always triumph over tyranny. \\n\\nSix days ago, Russia’s Vladimir Putin sought to shake the foundations of the free world thinking he could make it bend to his menacing ways. But he badly miscalculated. \\n\\nHe thought he could roll into Ukraine and the world would roll over. Instead he met a wall of strength he never imagined. \\n\\nHe met the Ukrainian people. \\n\\nFrom President Zelenskyy to every Ukrainian, their fearlessness, their courage, their determination, inspires the world. \\n\\nGroups of citizens blocking tanks with their bodies. Everyone from students to retirees teachers turned soldiers defending their homeland.\\nSource: 0-pl\\nContent: And we won’t stop. \\n\\nWe have lost so much to COVID-19. Time with one another. And worst of all, so much loss of life. \\n\\nLet’s use this moment to reset. Let’s stop looking at COVID-19 as a partisan dividing line and see it for what it is: A God-awful disease.  \\n\\nLet’s stop seeing each other as enemies, and start seeing each other for who we really are: Fellow Americans.  \\n\\nWe can’t change how divided we’ve been. But we can change how we move forward—on COVID-19 and other issues we must face together. \\n\\nI recently visited the New York City Police Department days after the funerals of Officer Wilbert Mora and his partner, Officer Jason Rivera. \\n\\nThey were responding to a 9-1-1 call when a man shot and killed them with a stolen gun. \\n\\nOfficer Mora was 27 years old. \\n\\nOfficer Rivera was 22. \\n\\nBoth Dominican Americans who’d grown up on the same streets they later chose to patrol as police officers. \\n\\nI spoke with their families and told them that we are forever in debt for their sacrifice, and we will carry on their mission to restore the trust and safety every community deserves.\\nSource: 24-pl\\nContent: And a proud Ukrainian people, who have known 30 years  of independence, have repeatedly shown that they will not tolerate anyone who tries to take their country backwards.  \\n\\nTo all Americans, I will be honest with you, as I’ve always promised. A Russian dictator, invading a foreign country, has costs around the world. \\n\\nAnd I’m taking robust action to make sure the pain of our sanctions  is targeted at Russia’s economy. And I will use every tool at our disposal to protect American businesses and consumers. \\n\\nTonight, I can announce that the United States has worked with 30 other countries to release 60 Million barrels of oil from reserves around the world.  \\n\\nAmerica will lead that effort, releasing 30 Million barrels from our own Strategic Petroleum Reserve. And we stand ready to do more if necessary, unified with our allies.  \\n\\nThese steps will help blunt gas prices here at home. And I know the news about what’s happening can seem alarming. \\n\\nBut I want you to know that we are going to be okay.\\nSource: 5-pl\\nContent: More support for patients and families. \\n\\nTo get there, I call on Congress to fund ARPA-H, the Advanced Research Projects Agency for Health. \\n\\nIt’s based on DARPA—the Defense Department project that led to the Internet, GPS, and so much more.  \\n\\nARPA-H will have a singular purpose—to drive breakthroughs in cancer, Alzheimer’s, diabetes, and more. \\n\\nA unity agenda for the nation. \\n\\nWe can do this. \\n\\nMy fellow Americans—tonight , we have gathered in a sacred space—the citadel of our democracy. \\n\\nIn this Capitol, generation after generation, Americans have debated great questions amid great strife, and have done great things. \\n\\nWe have fought for freedom, expanded liberty, defeated totalitarianism and terror. \\n\\nAnd built the strongest, freest, and most prosperous nation the world has ever known. \\n\\nNow is the hour. \\n\\nOur moment of responsibility. \\n\\nOur test of resolve and conscience, of history itself. \\n\\nIt is in this moment that our character is formed. Our purpose is found. Our future is forged. \\n\\nWell I know this nation.\\nSource: 34-pl\\n=========\\nFINAL ANSWER: The president did not mention Michael Jackson.\\nSOURCES:\\n\\nQUESTION: what are the main reasons for the price cut?\\n=========\\nContent:  \\nThe move comes after it reported a sharp fall in its global vehicle deliveries in the first three months of this year. A price war has been intensifying between electric vehicle (EV) makers, with particularly fierce competition coming from Chinese firms.\\nSource: https://www.bbc.co.uk/news/articles/c1d4g8jz57yo\\n\\nContent:  \\n\\\"Tesla prices must change frequently in order to match production with demand.\\\"\\n\\\"In China, the firm cut the starting price of the revamped Model 3 in China by 14,000 yuan (£1,562) to 231,900 yuan.\\\"\\n\\\"Prices of the Model Y, Model X and Model S vehicles in the US were reduced by $2,000 (£1,616) on Friday.\\\"\\n\\\"The company triggered an EV price war over a year ago when it aggressively cut prices at the expense of profit margins.\\\"\\n\\\"The firm has been slow to refresh its ageing models while rivals in China, such as BYD and Nio, have been rolling out cheaper models. Chinese smartphone maker Xiaomi also launched its first EV last month.\\\"\\nSource: https://www.bbc.co.uk/news/articles/c1d4g8jz57yo\\n\\nContent:  The article mentions that Tesla has slashed prices of its models in the US and globally due to falling sales, a Cybertruck recall, and increasing competition in the EV market.\\nSource: https://www.theguardian.com/technology/2024/apr/21/tesla-sales-price-cuts-elon-musk\\n\\nContent:  \\\"There were also price cuts in many other countries in Europe, the Middle East and Africa, a Tesla spokesperson said.\\\"\\nSource: https://www.theguardian.com/technology/2024/apr/21/tesla-sales-price-cuts-elon-musk\\n=========\\nFINAL ANSWER:\"\n",
      "  ]\n",
      "}\n",
      "\u001b[36;1m\u001b[1;3m[llm/end]\u001b[0m \u001b[1m[chain:RetrievalQAWithSourcesChain > chain:MapReduceDocumentsChain > chain:LLMChain > llm:OpenAI] [1.38s] Exiting LLM run with output:\n",
      "\u001b[0m{\n",
      "  \"generations\": [\n",
      "    [\n",
      "      {\n",
      "        \"text\": \" The main reasons for the price cut include falling sales, fierce competition in the EV market, and the need to match production with demand. \\nSOURCE: https://www.bbc.co.uk/news/articles/c1d4g8jz57yo, https://www.theguardian.com/technology/2024/apr/21/tesla-sales-price-cuts-elon-musk\",\n",
      "        \"generation_info\": {\n",
      "          \"finish_reason\": \"stop\",\n",
      "          \"logprobs\": null\n",
      "        },\n",
      "        \"type\": \"Generation\"\n",
      "      }\n",
      "    ]\n",
      "  ],\n",
      "  \"llm_output\": {\n",
      "    \"token_usage\": {\n",
      "      \"prompt_tokens\": 1717,\n",
      "      \"total_tokens\": 1794,\n",
      "      \"completion_tokens\": 77\n",
      "    },\n",
      "    \"model_name\": \"gpt-3.5-turbo-instruct\"\n",
      "  },\n",
      "  \"run\": null\n",
      "}\n",
      "\u001b[36;1m\u001b[1;3m[chain/end]\u001b[0m \u001b[1m[chain:RetrievalQAWithSourcesChain > chain:MapReduceDocumentsChain > chain:LLMChain] [1.38s] Exiting Chain run with output:\n",
      "\u001b[0m{\n",
      "  \"text\": \" The main reasons for the price cut include falling sales, fierce competition in the EV market, and the need to match production with demand. \\nSOURCE: https://www.bbc.co.uk/news/articles/c1d4g8jz57yo, https://www.theguardian.com/technology/2024/apr/21/tesla-sales-price-cuts-elon-musk\"\n",
      "}\n",
      "\u001b[36;1m\u001b[1;3m[chain/end]\u001b[0m \u001b[1m[chain:RetrievalQAWithSourcesChain > chain:MapReduceDocumentsChain] [4.08s] Exiting Chain run with output:\n",
      "\u001b[0m{\n",
      "  \"output_text\": \" The main reasons for the price cut include falling sales, fierce competition in the EV market, and the need to match production with demand. \\nSOURCE: https://www.bbc.co.uk/news/articles/c1d4g8jz57yo, https://www.theguardian.com/technology/2024/apr/21/tesla-sales-price-cuts-elon-musk\"\n",
      "}\n",
      "\u001b[36;1m\u001b[1;3m[chain/end]\u001b[0m \u001b[1m[chain:RetrievalQAWithSourcesChain] [4.42s] Exiting Chain run with output:\n",
      "\u001b[0m{\n",
      "  \"answer\": \" The main reasons for the price cut include falling sales, fierce competition in the EV market, and the need to match production with demand. \\n\",\n",
      "  \"sources\": \"https://www.bbc.co.uk/news/articles/c1d4g8jz57yo, https://www.theguardian.com/technology/2024/apr/21/tesla-sales-price-cuts-elon-musk\"\n",
      "}\n",
      "{'answer': ' The main reasons for the price cut include falling sales, fierce competition in the EV market, and the need to match production with demand. \\n', 'sources': 'https://www.bbc.co.uk/news/articles/c1d4g8jz57yo, https://www.theguardian.com/technology/2024/apr/21/tesla-sales-price-cuts-elon-musk'}\n"
     ]
    }
   ],
   "source": [
    "# Define the query\n",
    "query = \"what are the main reasons for the price cut?\"\n",
    "\n",
    "langchain.debug=True\n",
    "\n",
    "# Invoke the chain\n",
    "try:\n",
    "    result = chain.invoke({\"question\": query}, return_only_outputs=True)\n",
    "    print(result)\n",
    "except Exception as e:\n",
    "    print(f\"Error: {e}\")\n",
    "    \n",
    "# chain.invoke({\"question\": query}, return_only_outputs=True)"
   ]
  },
  {
   "cell_type": "code",
   "execution_count": null,
   "id": "af831b39-44b1-4b9d-b4c6-81a60a27f380",
   "metadata": {},
   "outputs": [],
   "source": []
  }
 ],
 "metadata": {
  "kernelspec": {
   "display_name": "Python 3 (ipykernel)",
   "language": "python",
   "name": "python3"
  },
  "language_info": {
   "codemirror_mode": {
    "name": "ipython",
    "version": 3
   },
   "file_extension": ".py",
   "mimetype": "text/x-python",
   "name": "python",
   "nbconvert_exporter": "python",
   "pygments_lexer": "ipython3",
   "version": "3.11.7"
  }
 },
 "nbformat": 4,
 "nbformat_minor": 5
}
