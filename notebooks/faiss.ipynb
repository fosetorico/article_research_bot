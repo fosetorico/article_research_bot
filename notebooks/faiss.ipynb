{
 "cells": [
  {
   "cell_type": "code",
   "execution_count": 1,
   "id": "4fa47c01",
   "metadata": {},
   "outputs": [
    {
     "data": {
      "text/plain": [
       "'c:\\\\Users\\\\Vallee\\\\Stack\\\\__DSProjects__\\\\article_research_bot\\\\notebooks'"
      ]
     },
     "execution_count": 1,
     "metadata": {},
     "output_type": "execute_result"
    }
   ],
   "source": [
    "import os\n",
    "%pwd"
   ]
  },
  {
   "cell_type": "code",
   "execution_count": 2,
   "id": "f40867d0",
   "metadata": {},
   "outputs": [
    {
     "data": {
      "text/plain": [
       "'c:\\\\Users\\\\Vallee\\\\Stack\\\\__DSProjects__\\\\article_research_bot'"
      ]
     },
     "execution_count": 2,
     "metadata": {},
     "output_type": "execute_result"
    }
   ],
   "source": [
    "os.chdir(\"../\")\n",
    "%pwd"
   ]
  },
  {
   "cell_type": "code",
   "execution_count": null,
   "id": "c9493399",
   "metadata": {},
   "outputs": [],
   "source": [
    "#Install Packages\n",
    "# !pip install faiss-cpu\n",
    "# !pip install sentence-transformers"
   ]
  },
  {
   "cell_type": "code",
   "execution_count": 3,
   "id": "c49be142",
   "metadata": {},
   "outputs": [],
   "source": [
    "# import necessary libraries\n",
    "import pandas as pd\n",
    "pd.set_option('display.max_colwidth', 100)"
   ]
  },
  {
   "cell_type": "code",
   "execution_count": 4,
   "id": "f5a30989",
   "metadata": {},
   "outputs": [
    {
     "data": {
      "text/plain": [
       "(8, 2)"
      ]
     },
     "execution_count": 4,
     "metadata": {},
     "output_type": "execute_result"
    }
   ],
   "source": [
    "df = pd.read_csv(\"notebooks/sample_text.csv\")\n",
    "df.shape"
   ]
  },
  {
   "cell_type": "code",
   "execution_count": 5,
   "id": "b72e2ecb",
   "metadata": {
    "scrolled": true
   },
   "outputs": [
    {
     "data": {
      "text/html": [
       "<div>\n",
       "<style scoped>\n",
       "    .dataframe tbody tr th:only-of-type {\n",
       "        vertical-align: middle;\n",
       "    }\n",
       "\n",
       "    .dataframe tbody tr th {\n",
       "        vertical-align: top;\n",
       "    }\n",
       "\n",
       "    .dataframe thead th {\n",
       "        text-align: right;\n",
       "    }\n",
       "</style>\n",
       "<table border=\"1\" class=\"dataframe\">\n",
       "  <thead>\n",
       "    <tr style=\"text-align: right;\">\n",
       "      <th></th>\n",
       "      <th>text</th>\n",
       "      <th>category</th>\n",
       "    </tr>\n",
       "  </thead>\n",
       "  <tbody>\n",
       "    <tr>\n",
       "      <th>0</th>\n",
       "      <td>Meditation and yoga can improve mental health</td>\n",
       "      <td>Health</td>\n",
       "    </tr>\n",
       "    <tr>\n",
       "      <th>1</th>\n",
       "      <td>Fruits, whole grains and vegetables helps control blood pressure</td>\n",
       "      <td>Health</td>\n",
       "    </tr>\n",
       "    <tr>\n",
       "      <th>2</th>\n",
       "      <td>These are the latest fashion trends for this week</td>\n",
       "      <td>Fashion</td>\n",
       "    </tr>\n",
       "    <tr>\n",
       "      <th>3</th>\n",
       "      <td>Vibrant color jeans for male are becoming a trend</td>\n",
       "      <td>Fashion</td>\n",
       "    </tr>\n",
       "    <tr>\n",
       "      <th>4</th>\n",
       "      <td>The concert starts at 7 PM tonight</td>\n",
       "      <td>Event</td>\n",
       "    </tr>\n",
       "    <tr>\n",
       "      <th>5</th>\n",
       "      <td>Navaratri dandiya program at Expo center in Mumbai this october</td>\n",
       "      <td>Event</td>\n",
       "    </tr>\n",
       "    <tr>\n",
       "      <th>6</th>\n",
       "      <td>Exciting vacation destinations for your next trip</td>\n",
       "      <td>Travel</td>\n",
       "    </tr>\n",
       "    <tr>\n",
       "      <th>7</th>\n",
       "      <td>Maldives and Srilanka are gaining popularity in terms of low budget vacation places</td>\n",
       "      <td>Travel</td>\n",
       "    </tr>\n",
       "  </tbody>\n",
       "</table>\n",
       "</div>"
      ],
      "text/plain": [
       "                                                                                  text  \\\n",
       "0                                        Meditation and yoga can improve mental health   \n",
       "1                     Fruits, whole grains and vegetables helps control blood pressure   \n",
       "2                                    These are the latest fashion trends for this week   \n",
       "3                                    Vibrant color jeans for male are becoming a trend   \n",
       "4                                                   The concert starts at 7 PM tonight   \n",
       "5                      Navaratri dandiya program at Expo center in Mumbai this october   \n",
       "6                                    Exciting vacation destinations for your next trip   \n",
       "7  Maldives and Srilanka are gaining popularity in terms of low budget vacation places   \n",
       "\n",
       "  category  \n",
       "0   Health  \n",
       "1   Health  \n",
       "2  Fashion  \n",
       "3  Fashion  \n",
       "4    Event  \n",
       "5    Event  \n",
       "6   Travel  \n",
       "7   Travel  "
      ]
     },
     "execution_count": 5,
     "metadata": {},
     "output_type": "execute_result"
    }
   ],
   "source": [
    "df"
   ]
  },
  {
   "cell_type": "markdown",
   "id": "2d935944",
   "metadata": {},
   "source": [
    "### Step 1 : Create source embeddings for the text column"
   ]
  },
  {
   "cell_type": "code",
   "execution_count": 6,
   "id": "cd04834b",
   "metadata": {},
   "outputs": [
    {
     "name": "stderr",
     "output_type": "stream",
     "text": [
      "c:\\Users\\Vallee\\anaconda3\\envs\\articleenv\\lib\\site-packages\\tqdm\\auto.py:21: TqdmWarning: IProgress not found. Please update jupyter and ipywidgets. See https://ipywidgets.readthedocs.io/en/stable/user_install.html\n",
      "  from .autonotebook import tqdm as notebook_tqdm\n"
     ]
    }
   ],
   "source": [
    "from sentence_transformers import SentenceTransformer"
   ]
  },
  {
   "cell_type": "code",
   "execution_count": 7,
   "id": "03ed4874",
   "metadata": {},
   "outputs": [
    {
     "name": "stderr",
     "output_type": "stream",
     "text": [
      "c:\\Users\\Vallee\\anaconda3\\envs\\articleenv\\lib\\site-packages\\huggingface_hub\\file_download.py:140: UserWarning: `huggingface_hub` cache-system uses symlinks by default to efficiently store duplicated files but your machine does not support them in C:\\Users\\Vallee\\.cache\\huggingface\\hub\\models--sentence-transformers--all-mpnet-base-v2. Caching files will still work but in a degraded version that might require more space on your disk. This warning can be disabled by setting the `HF_HUB_DISABLE_SYMLINKS_WARNING` environment variable. For more details, see https://huggingface.co/docs/huggingface_hub/how-to-cache#limitations.\n",
      "To support symlinks on Windows, you either need to activate Developer Mode or to run Python as an administrator. In order to activate developer mode, see this article: https://docs.microsoft.com/en-us/windows/apps/get-started/enable-your-device-for-development\n",
      "  warnings.warn(message)\n"
     ]
    }
   ],
   "source": [
    "# Hugging Face\n",
    "encoder = SentenceTransformer(\"all-mpnet-base-v2\")\n",
    "vectors = encoder.encode(df.text)"
   ]
  },
  {
   "cell_type": "code",
   "execution_count": 8,
   "id": "b8b8c1ce",
   "metadata": {},
   "outputs": [
    {
     "data": {
      "text/plain": [
       "(8, 768)"
      ]
     },
     "execution_count": 8,
     "metadata": {},
     "output_type": "execute_result"
    }
   ],
   "source": [
    "vectors.shape"
   ]
  },
  {
   "cell_type": "code",
   "execution_count": 9,
   "id": "0728dcfc",
   "metadata": {},
   "outputs": [
    {
     "data": {
      "text/plain": [
       "array([[-0.00247386,  0.03626738, -0.05290457, ..., -0.09152357,\n",
       "        -0.03970006, -0.04330486],\n",
       "       [-0.03357265,  0.0098052 , -0.03250131, ..., -0.05165471,\n",
       "         0.02245886, -0.0315618 ],\n",
       "       [-0.01865333, -0.04051305, -0.01235392, ...,  0.00610591,\n",
       "        -0.07179645,  0.02773852],\n",
       "       ...,\n",
       "       [-0.00066453,  0.04252131, -0.05645506, ...,  0.0131547 ,\n",
       "        -0.03183563, -0.04357663],\n",
       "       [-0.03317152,  0.03252462, -0.02484841, ...,  0.01174419,\n",
       "         0.0574712 ,  0.00571026],\n",
       "       [-0.00166399,  0.00413823, -0.04597077, ...,  0.02008529,\n",
       "         0.05656242, -0.00161591]], dtype=float32)"
      ]
     },
     "execution_count": 9,
     "metadata": {},
     "output_type": "execute_result"
    }
   ],
   "source": [
    "vectors"
   ]
  },
  {
   "cell_type": "code",
   "execution_count": 10,
   "id": "8e5c7da8",
   "metadata": {},
   "outputs": [
    {
     "data": {
      "text/plain": [
       "768"
      ]
     },
     "execution_count": 10,
     "metadata": {},
     "output_type": "execute_result"
    }
   ],
   "source": [
    "dim = vectors.shape[1]\n",
    "dim"
   ]
  },
  {
   "cell_type": "markdown",
   "id": "149e6b32",
   "metadata": {},
   "source": [
    "### Step 2 : Build a FAISS Index for vectors"
   ]
  },
  {
   "cell_type": "code",
   "execution_count": 11,
   "id": "1033b6bd",
   "metadata": {},
   "outputs": [],
   "source": [
    "import faiss\n",
    "\n",
    "# IndexFlatL2 uses the euclidean/l2 distance, helps with fast searching\n",
    "index = faiss.IndexFlatL2(dim)"
   ]
  },
  {
   "cell_type": "markdown",
   "id": "76ad509d",
   "metadata": {},
   "source": [
    "### Step 3 : Normalize the source vectors (as we are using L2 distance to measure similarity) and add to the index"
   ]
  },
  {
   "cell_type": "code",
   "execution_count": 12,
   "id": "90b527fc",
   "metadata": {},
   "outputs": [],
   "source": [
    "index.add(vectors)"
   ]
  },
  {
   "cell_type": "code",
   "execution_count": 13,
   "id": "7ac0b8ef",
   "metadata": {},
   "outputs": [
    {
     "data": {
      "text/plain": [
       "<faiss.swigfaiss_avx2.IndexFlatL2; proxy of <Swig Object of type 'faiss::IndexFlatL2 *' at 0x0000022C2656BAE0> >"
      ]
     },
     "execution_count": 13,
     "metadata": {},
     "output_type": "execute_result"
    }
   ],
   "source": [
    "index"
   ]
  },
  {
   "cell_type": "markdown",
   "id": "6c42234c",
   "metadata": {},
   "source": [
    "### Step 4 : Encode search text using same encorder and normalize the output vector"
   ]
  },
  {
   "cell_type": "code",
   "execution_count": 26,
   "id": "018faf33",
   "metadata": {},
   "outputs": [
    {
     "data": {
      "text/plain": [
       "(768,)"
      ]
     },
     "execution_count": 26,
     "metadata": {},
     "output_type": "execute_result"
    }
   ],
   "source": [
    "# search_query = \"I want to buy a polo t-shirt\"\n",
    "search_query = \"looking for places to visit during the holidays\"\n",
    "# search_query = \"An apple a day keeps the doctor away\"\n",
    "vec = encoder.encode(search_query)\n",
    "vec.shape"
   ]
  },
  {
   "cell_type": "code",
   "execution_count": 27,
   "id": "af05bce3",
   "metadata": {},
   "outputs": [
    {
     "data": {
      "text/plain": [
       "(1, 768)"
      ]
     },
     "execution_count": 27,
     "metadata": {},
     "output_type": "execute_result"
    }
   ],
   "source": [
    "import numpy as np\n",
    "\n",
    "# converting to 2D array cos the search vector expects so\n",
    "svec = np.array(vec).reshape(1,-1)\n",
    "svec.shape"
   ]
  },
  {
   "cell_type": "code",
   "execution_count": 28,
   "id": "1bf2fb87-136c-4326-b16f-52bd501f99a4",
   "metadata": {},
   "outputs": [
    {
     "data": {
      "text/plain": [
       "array([[-5.69070578e-02, -7.85626005e-03, -5.97458743e-02,\n",
       "         1.70310866e-02, -1.56358052e-02, -1.14044799e-02,\n",
       "         1.34391142e-02,  1.58604365e-02, -5.63505339e-03,\n",
       "        -3.65664065e-02, -2.79401038e-02,  9.15883668e-03,\n",
       "         6.13885969e-02, -8.18535313e-02, -4.09648521e-03,\n",
       "        -4.49632891e-02,  1.87594257e-02, -2.79248189e-02,\n",
       "        -6.87939376e-02, -3.13307680e-02, -3.87345925e-02,\n",
       "         2.53378171e-02, -2.10150098e-03,  1.09867593e-02,\n",
       "         6.78736791e-02, -1.60868187e-02, -5.97489513e-02,\n",
       "        -1.26970289e-02,  3.33298147e-02,  4.20751609e-02,\n",
       "        -3.19535807e-02, -2.43929178e-02,  6.78693643e-03,\n",
       "         2.02426147e-02,  1.25888391e-06,  4.73243520e-02,\n",
       "         2.17979308e-02, -3.91112417e-02,  3.06510758e-02,\n",
       "         9.65031516e-03, -3.92406806e-02, -4.86151278e-02,\n",
       "         4.31999704e-03,  1.74005963e-02,  2.01661643e-02,\n",
       "        -7.81874806e-02, -3.52568156e-03, -2.18736771e-02,\n",
       "        -3.01542152e-02,  1.45583889e-02,  4.68927249e-03,\n",
       "         1.82229001e-02, -6.18819185e-02,  2.97323037e-02,\n",
       "         9.34304576e-03,  2.96026077e-02, -2.51854155e-02,\n",
       "        -4.38582487e-02,  2.97867768e-02,  4.95719071e-03,\n",
       "         2.62525175e-02, -2.41824444e-02, -6.60196040e-03,\n",
       "        -1.14431139e-03, -6.21643141e-02,  3.03761549e-02,\n",
       "         2.43203882e-02,  7.44742006e-02,  2.77794227e-02,\n",
       "        -2.40256377e-02, -2.64560841e-02, -8.15077648e-02,\n",
       "         1.22688226e-02,  4.87601086e-02, -2.80493554e-02,\n",
       "         4.86976579e-02,  3.33995596e-02,  1.77944060e-02,\n",
       "        -6.85469666e-03,  2.39268783e-02, -4.58455645e-02,\n",
       "        -5.15291765e-02,  3.18901502e-02,  3.81566361e-02,\n",
       "         8.32721218e-02, -3.72957624e-02,  1.57019459e-02,\n",
       "         4.73339623e-03, -6.33680895e-02, -1.82131603e-02,\n",
       "        -3.51368263e-02,  2.71676527e-03, -3.02894209e-02,\n",
       "        -1.06801232e-03, -2.62986999e-02, -2.68029515e-02,\n",
       "        -2.98897419e-02,  6.57676011e-02,  2.54126522e-03,\n",
       "         4.57213931e-02,  4.24780510e-02, -1.69456098e-02,\n",
       "        -2.57950798e-02,  4.21870910e-02,  1.75615046e-02,\n",
       "        -1.49290764e-03,  1.12571539e-02, -4.30687405e-02,\n",
       "         6.72185980e-03,  3.11951265e-02, -2.25312193e-03,\n",
       "        -1.84494685e-02,  5.24431430e-02,  1.89963412e-02,\n",
       "         2.20478494e-02,  5.10491617e-02,  4.81108651e-02,\n",
       "        -1.51162669e-02, -6.64934004e-03, -3.97045398e-03,\n",
       "         1.20778931e-02, -2.07808707e-02, -3.70380804e-02,\n",
       "         4.04543765e-02,  4.61492985e-02,  4.40249667e-02,\n",
       "        -2.50801407e-02, -3.66115458e-02, -6.39117062e-02,\n",
       "         6.91328719e-02, -3.49720418e-02,  4.71870601e-02,\n",
       "         6.12386269e-03,  3.93021703e-02, -1.44060384e-02,\n",
       "        -3.51433679e-02, -5.52889518e-03, -3.73742473e-03,\n",
       "        -1.97018292e-02,  1.07448697e-02,  6.63637510e-03,\n",
       "        -4.26588133e-02,  2.44027618e-02, -6.59005996e-03,\n",
       "        -1.41120953e-02, -2.65125781e-02, -2.52361111e-02,\n",
       "        -1.53157664e-02, -2.85212398e-02,  6.63912296e-02,\n",
       "         3.95997018e-02,  1.51296798e-02,  7.47288167e-02,\n",
       "        -1.35661792e-02, -1.55700110e-02, -1.30654974e-02,\n",
       "         2.41477042e-02,  2.58620959e-02,  2.39505935e-02,\n",
       "         6.05019219e-02,  1.50362859e-02, -2.68150726e-03,\n",
       "         3.29025686e-02, -3.41407843e-02, -2.45893206e-02,\n",
       "        -3.08522880e-02, -4.44606729e-02, -5.26312999e-02,\n",
       "         1.20850429e-02, -4.01827060e-02, -6.47910610e-02,\n",
       "         1.51118562e-02,  7.86948204e-03, -3.09216306e-02,\n",
       "        -3.55702266e-02, -4.82863039e-02, -1.12796299e-01,\n",
       "        -2.94502843e-02,  1.06091732e-02, -2.46116193e-03,\n",
       "        -3.51842828e-02, -8.64187777e-02,  2.03238092e-02,\n",
       "        -6.87882490e-03,  2.42466982e-02,  4.12594043e-02,\n",
       "         1.45152276e-02,  4.64808196e-02,  3.44690494e-02,\n",
       "        -4.25835252e-02,  4.61631967e-03,  5.10286912e-03,\n",
       "         7.15002865e-02, -2.90190132e-04, -3.97376828e-02,\n",
       "        -4.33107167e-02, -3.23193669e-02, -5.46477437e-02,\n",
       "        -7.44415587e-03, -4.08144221e-02,  3.03827263e-02,\n",
       "         2.61579324e-02, -1.01445988e-02,  2.93689277e-02,\n",
       "         1.33658974e-02,  2.70071961e-02,  2.96903979e-02,\n",
       "        -4.23723320e-03,  1.59739349e-02, -4.02675048e-02,\n",
       "        -7.78992027e-02,  1.17972605e-02,  5.45975491e-02,\n",
       "        -7.73600414e-02, -1.17597717e-03,  3.52902077e-02,\n",
       "         2.03183163e-02,  2.30134428e-02,  2.73180734e-02,\n",
       "         3.86653356e-02, -1.02402288e-02, -1.19473981e-02,\n",
       "         4.90262099e-02,  1.51323415e-02,  1.04937166e-01,\n",
       "         9.67301354e-02,  1.52238533e-02, -2.60182954e-02,\n",
       "        -2.12679058e-02,  4.40177172e-02, -2.60193013e-02,\n",
       "        -3.33367214e-02,  3.61823780e-03,  4.02440922e-03,\n",
       "         6.50543198e-02,  1.97743904e-02,  4.65118214e-02,\n",
       "        -6.14262410e-02, -4.03060243e-02, -3.98587510e-02,\n",
       "        -1.86740211e-03,  5.61591387e-02,  2.08389424e-02,\n",
       "        -2.39883363e-03,  5.96183762e-02,  1.09899919e-02,\n",
       "         1.73371453e-02,  6.33129552e-02,  1.94669086e-02,\n",
       "         3.34650129e-02, -6.57787472e-02, -4.10648510e-02,\n",
       "         8.87513757e-02, -4.26369198e-02,  2.37744078e-02,\n",
       "         5.16856350e-02,  2.19616387e-02, -1.99610721e-02,\n",
       "         1.58588439e-02, -2.57206801e-03, -5.50185377e-03,\n",
       "         1.60219986e-02, -1.47596514e-02, -7.95045942e-02,\n",
       "        -6.62784604e-03,  7.88603723e-02, -6.79184496e-03,\n",
       "        -4.09464315e-02, -5.30028269e-02, -8.50224588e-03,\n",
       "        -3.00924806e-03,  1.89834032e-02,  2.68534757e-02,\n",
       "        -7.31343962e-03,  1.72693897e-02,  6.17324524e-02,\n",
       "         2.53408775e-03, -8.50676373e-02,  6.20344141e-03,\n",
       "        -2.71257479e-02, -5.31458901e-03,  2.33657639e-02,\n",
       "         6.85138106e-02,  1.73968151e-02, -1.82451287e-04,\n",
       "         3.00510693e-02, -1.94784962e-02, -3.10214758e-02,\n",
       "         1.26662366e-02, -2.22216994e-02,  3.82403880e-02,\n",
       "        -7.45954784e-03,  4.34602089e-02, -6.22361042e-02,\n",
       "        -1.06001180e-02, -1.23345573e-02,  4.12638709e-02,\n",
       "         8.47394671e-03, -2.53937934e-02, -5.77715151e-02,\n",
       "        -2.80899578e-03, -5.20283263e-03, -1.45124327e-02,\n",
       "         2.33776867e-02,  1.11031961e-02,  2.61572581e-02,\n",
       "         2.38272995e-02, -3.10286172e-02, -8.59395508e-03,\n",
       "        -3.32138576e-02,  5.39892502e-02,  7.06865569e-04,\n",
       "        -2.91327629e-02, -1.81182362e-02, -8.07207543e-03,\n",
       "        -2.00120900e-02,  7.17027346e-03,  2.91755740e-02,\n",
       "        -6.26892503e-03, -3.29204798e-02,  1.07587334e-02,\n",
       "         8.88350233e-03, -4.93941791e-02,  3.25865820e-02,\n",
       "        -4.23573656e-04, -7.29512610e-03,  1.76665206e-02,\n",
       "        -2.60794833e-02,  2.52415445e-02,  4.23053913e-02,\n",
       "        -6.29649789e-04, -6.29769498e-03,  2.68167760e-02,\n",
       "        -1.79162656e-03,  6.27509691e-03, -4.22569737e-02,\n",
       "         2.96630021e-02,  3.70822730e-03,  7.35020963e-04,\n",
       "        -1.90520026e-02,  8.84907469e-02,  2.12667175e-02,\n",
       "         4.34226021e-02,  1.69382729e-02,  6.12578820e-03,\n",
       "        -5.73012121e-02, -3.82853709e-02, -2.69444436e-02,\n",
       "         2.27953065e-02,  2.96998993e-02, -2.08354853e-02,\n",
       "         3.05812638e-02,  6.17280081e-02, -2.13906262e-02,\n",
       "        -1.82225239e-02, -1.88899469e-02,  2.52923928e-02,\n",
       "         1.10302893e-02, -5.99024296e-02,  4.59930487e-02,\n",
       "        -4.79024425e-02,  3.86543907e-02, -1.43917918e-03,\n",
       "        -3.24306563e-02,  6.20459244e-02,  2.98035075e-03,\n",
       "        -7.96069333e-04, -3.39371301e-02, -2.22608726e-02,\n",
       "         5.93234040e-02,  1.01815653e-03,  1.39282532e-02,\n",
       "        -2.79177558e-02, -3.01438440e-02,  1.32919885e-02,\n",
       "        -2.89821345e-02,  2.98064551e-03,  1.47957653e-02,\n",
       "         6.19501509e-02,  2.46459879e-02, -1.09733827e-03,\n",
       "         7.18787760e-02,  2.19213944e-02, -1.63400685e-03,\n",
       "        -3.09391730e-02,  1.99737214e-03,  3.92179424e-03,\n",
       "        -9.31725558e-03,  3.65790352e-02,  1.81881078e-02,\n",
       "         7.67616462e-03,  3.05440314e-02, -6.26404583e-02,\n",
       "        -4.57397997e-02,  4.36443239e-02, -6.15129657e-02,\n",
       "        -1.04734868e-01, -2.97425631e-02,  5.42702712e-03,\n",
       "         2.23388262e-02, -3.18631232e-02, -5.47943115e-02,\n",
       "        -9.09855962e-03, -4.25307937e-02, -1.97525378e-02,\n",
       "         2.67440802e-03, -4.66507599e-02, -3.84469368e-02,\n",
       "        -4.18845564e-02, -1.98127739e-02,  3.56180109e-02,\n",
       "        -1.19111110e-02,  7.55141452e-02, -4.22824509e-02,\n",
       "        -3.27000841e-02,  3.30548398e-02, -9.94628202e-03,\n",
       "        -1.38224633e-02, -1.81889553e-02,  1.33867422e-02,\n",
       "        -2.31242273e-02, -7.26413354e-03, -3.15933339e-02,\n",
       "         1.15043111e-02,  7.08904788e-02,  5.22182249e-02,\n",
       "         1.10360324e-01, -6.81490591e-03, -1.49773024e-02,\n",
       "        -1.55456802e-02,  2.66311541e-02, -2.09697988e-02,\n",
       "         3.60527746e-02,  1.12449853e-02, -4.99667460e-03,\n",
       "        -9.86881275e-03,  6.36208802e-02,  5.65335341e-02,\n",
       "        -3.77034396e-02, -1.41263725e-02, -1.47474650e-03,\n",
       "         1.80634726e-02,  2.22564023e-02, -4.76292185e-02,\n",
       "         2.82208971e-03, -5.38475513e-02, -6.44743629e-03,\n",
       "         6.27802461e-02,  9.22260690e-04, -3.29048298e-02,\n",
       "        -2.18029656e-02,  7.22641721e-02, -7.72193540e-03,\n",
       "        -1.36601208e-02, -4.60095145e-02,  2.02684794e-02,\n",
       "        -4.36650664e-02, -1.24423103e-02,  1.27418153e-03,\n",
       "         2.40307190e-02, -6.99679658e-04,  1.66219231e-02,\n",
       "         3.09875719e-02, -2.08719969e-02,  2.59701461e-02,\n",
       "        -1.50080249e-02, -1.24909803e-02, -2.05544792e-02,\n",
       "        -3.45807858e-02,  2.91650407e-02, -3.07165235e-02,\n",
       "        -2.96123885e-02, -1.07012177e-02,  9.53324232e-03,\n",
       "        -3.24048996e-02, -7.83026777e-03,  4.12100963e-02,\n",
       "         7.39576202e-03, -4.41031493e-02, -1.37690092e-02,\n",
       "        -1.67508107e-02,  1.43710589e-02,  1.78257525e-02,\n",
       "         9.46417917e-03, -3.88792381e-02,  2.37973947e-02,\n",
       "         2.52489280e-02,  1.90403163e-02,  7.40275392e-03,\n",
       "        -4.72239628e-02, -2.65049282e-02, -1.17353862e-02,\n",
       "        -1.92071348e-02, -2.25094929e-02,  3.06890365e-02,\n",
       "         1.14301927e-02, -1.99194588e-02, -5.20456359e-02,\n",
       "         2.68433746e-02,  1.73150152e-02, -3.12072672e-02,\n",
       "         3.18277031e-02,  1.39125893e-02,  5.68916760e-02,\n",
       "        -1.30170612e-02,  2.41714739e-03,  9.03767999e-03,\n",
       "         3.88195796e-04,  1.99259818e-02, -8.23006313e-03,\n",
       "        -6.60281628e-02, -1.53774181e-02, -5.02504036e-02,\n",
       "         4.07125168e-02, -2.15936545e-02, -2.78936001e-03,\n",
       "         6.35177493e-02,  7.90952239e-03, -1.86407194e-02,\n",
       "        -1.75202284e-02, -1.45602003e-02,  9.27113276e-03,\n",
       "         5.99863194e-02,  5.64379916e-02, -3.47631127e-02,\n",
       "        -5.47804721e-02,  3.53204794e-02,  3.55067966e-03,\n",
       "        -2.00637840e-02,  1.10303536e-02, -3.35777514e-02,\n",
       "         2.09823716e-02,  1.29982814e-01,  6.09653145e-02,\n",
       "        -3.98910381e-02,  2.01043636e-02, -1.11056929e-02,\n",
       "         1.19859045e-02,  1.40963085e-02,  1.52200286e-03,\n",
       "         3.11371638e-03, -6.79648817e-02,  8.18326510e-03,\n",
       "         7.65634002e-03, -1.11189007e-03, -2.17578262e-02,\n",
       "         3.76459733e-02, -1.01170484e-02,  4.41530384e-02,\n",
       "         3.33839208e-02,  2.21210383e-02,  2.61173453e-02,\n",
       "        -3.69416061e-03, -4.94273044e-02, -7.00477138e-02,\n",
       "        -4.86813316e-33,  5.17358370e-02, -1.15500158e-02,\n",
       "        -3.88819724e-03, -1.87839773e-02,  2.39540115e-02,\n",
       "         5.84316021e-03,  6.59895241e-02,  2.03710608e-02,\n",
       "        -1.87571105e-02, -6.23049121e-03, -2.00167820e-02,\n",
       "        -3.46781351e-02,  4.32269089e-03, -2.58677267e-02,\n",
       "        -3.33330035e-02, -1.04193939e-02,  6.07691647e-04,\n",
       "        -1.47363022e-02, -4.45180684e-02, -2.96019507e-03,\n",
       "        -1.75478943e-02, -4.58292812e-02,  4.09165695e-02,\n",
       "         7.46046677e-02, -3.43059152e-02,  1.11160949e-02,\n",
       "        -1.67168304e-02, -1.36930589e-02,  4.09726910e-02,\n",
       "         3.26597467e-02,  3.33897360e-02,  1.32810362e-02,\n",
       "         4.04199101e-02, -6.50710389e-02,  2.74670869e-03,\n",
       "        -6.29116669e-02,  8.45382549e-03, -4.22247797e-02,\n",
       "         4.21768241e-02, -3.75782214e-02, -2.01086309e-02,\n",
       "        -2.78973002e-02,  2.57889926e-02, -4.17248420e-02,\n",
       "         5.76260053e-02,  5.39380871e-02, -1.15430532e-02,\n",
       "         3.17048728e-02, -3.05758305e-02,  3.10711972e-02,\n",
       "         1.57681461e-02,  2.82439450e-03, -5.11483755e-03,\n",
       "         5.25467284e-02, -1.21260220e-02,  3.54284644e-02,\n",
       "         4.29726997e-03,  2.21975278e-02,  2.26740465e-02,\n",
       "        -1.55256065e-02,  4.98519875e-02,  3.53785716e-02,\n",
       "         4.72141169e-02, -1.03413478e-01,  2.11305711e-02,\n",
       "        -4.78662290e-02, -2.97802649e-02,  1.84261147e-02,\n",
       "        -3.41060460e-02,  1.28408754e-02,  6.43874693e-04,\n",
       "        -7.64874415e-03,  2.04607937e-02,  8.12550262e-02,\n",
       "        -5.30020446e-02,  5.57640679e-02, -1.56113300e-02,\n",
       "        -1.24020372e-02, -4.10222681e-03, -1.36213787e-02,\n",
       "         4.33365330e-02, -3.58273350e-02, -2.78675780e-02,\n",
       "         4.34913114e-03, -2.44353805e-02,  7.64469504e-02,\n",
       "         4.25234810e-03, -2.00055633e-03,  6.40348904e-03,\n",
       "         3.09075806e-02, -6.71309829e-02, -5.06672729e-03,\n",
       "        -3.56992777e-03,  1.51216174e-02,  1.27276545e-02,\n",
       "         5.08219823e-02,  1.00505315e-01, -2.30604876e-02,\n",
       "         1.54994205e-02, -1.47741698e-02,  6.39987439e-02,\n",
       "        -3.31230126e-02, -3.39593366e-02,  2.66298279e-02,\n",
       "        -2.75859088e-02,  1.49173895e-03, -3.13552059e-02,\n",
       "         2.24626865e-02, -3.86570804e-02,  2.53886748e-02,\n",
       "         1.05358064e-02,  1.35786077e-02, -7.35284686e-02,\n",
       "         9.60561484e-02,  4.90512773e-02, -4.36871387e-02,\n",
       "        -8.21950939e-03, -1.10326707e-02,  7.63186626e-03,\n",
       "         1.06485318e-02,  3.52481008e-02, -8.80658925e-02,\n",
       "         8.31099320e-03, -3.59425656e-02, -1.23805813e-02,\n",
       "         6.62165182e-03, -1.66502111e-02, -5.76880872e-02,\n",
       "        -1.06610656e-02,  1.69451237e-02,  3.74207902e-03,\n",
       "         6.26244694e-02,  1.99999320e-07, -4.07315977e-03,\n",
       "         2.45234719e-03, -4.19802144e-02,  8.69984999e-02,\n",
       "         2.21216455e-02, -5.63181490e-02,  2.33356114e-02,\n",
       "         2.10297611e-02, -3.70452851e-02,  2.68458128e-02,\n",
       "         9.38079227e-03, -5.61669394e-02, -1.89949088e-02,\n",
       "         1.87556278e-02, -2.58827880e-02,  5.76810446e-03,\n",
       "        -2.74694581e-02,  4.65252288e-02,  1.78356655e-02,\n",
       "        -2.16403306e-02,  5.67064993e-02,  6.25893250e-02,\n",
       "         1.83521882e-02,  1.50620807e-02, -3.74457911e-02,\n",
       "         5.16100712e-02, -2.72729192e-02, -8.55257660e-02,\n",
       "        -2.90832110e-02, -2.73878910e-02,  2.71710660e-02,\n",
       "        -5.08779241e-03,  2.65309345e-02, -1.61261577e-02,\n",
       "         4.13617231e-02, -2.46185865e-02, -3.52675058e-02,\n",
       "        -4.79179323e-02,  5.14105298e-02,  1.16056008e-02,\n",
       "        -2.94112433e-02, -1.62113961e-02, -2.05492675e-02,\n",
       "        -9.62309390e-02,  1.75700951e-02, -9.25115868e-02,\n",
       "        -3.77454571e-02,  2.46925950e-02,  3.33423391e-02,\n",
       "         1.64514314e-02,  2.42378190e-02,  3.75727937e-02,\n",
       "        -1.93045177e-02, -1.81660429e-02,  7.17516942e-03,\n",
       "        -3.67384292e-02,  5.26148379e-02, -1.33990319e-02,\n",
       "        -7.97645003e-02, -8.24191049e-02, -1.14106685e-02,\n",
       "         3.26425135e-02,  2.93576345e-02,  3.21617187e-03,\n",
       "         8.74291547e-03, -2.90255938e-02,  2.31201686e-02,\n",
       "         9.85474885e-35,  1.81748830e-02, -7.21777081e-02,\n",
       "        -3.45900320e-02,  5.61593585e-02, -4.42815386e-02,\n",
       "        -5.85168693e-03, -9.01427679e-03, -9.83045157e-03,\n",
       "        -1.54526252e-02,  3.56931947e-02, -1.14144012e-02]], dtype=float32)"
      ]
     },
     "execution_count": 28,
     "metadata": {},
     "output_type": "execute_result"
    }
   ],
   "source": [
    "svec"
   ]
  },
  {
   "cell_type": "code",
   "execution_count": 67,
   "id": "84275adf",
   "metadata": {},
   "outputs": [],
   "source": [
    "# faiss.normalize_L2(svec)"
   ]
  },
  {
   "cell_type": "markdown",
   "id": "90c0cdd8",
   "metadata": {},
   "source": [
    "### Step 5: Search for similar vector in the FAISS index created"
   ]
  },
  {
   "cell_type": "code",
   "execution_count": 29,
   "id": "0ea02fdf-7024-49d9-a2d0-97dc74f02c0f",
   "metadata": {},
   "outputs": [
    {
     "data": {
      "text/plain": [
       "(array([[0.92737234, 1.1601744 ]], dtype=float32),\n",
       " array([[6, 7]], dtype=int64))"
      ]
     },
     "execution_count": 29,
     "metadata": {},
     "output_type": "execute_result"
    }
   ],
   "source": [
    "index.search(svec, k=2)"
   ]
  },
  {
   "cell_type": "code",
   "execution_count": 30,
   "id": "3d5a0e69",
   "metadata": {},
   "outputs": [
    {
     "data": {
      "text/plain": [
       "array([[0.92737234, 1.1601744 ]], dtype=float32)"
      ]
     },
     "execution_count": 30,
     "metadata": {},
     "output_type": "execute_result"
    }
   ],
   "source": [
    "distances, I = index.search(svec, k=2)\n",
    "distances"
   ]
  },
  {
   "cell_type": "code",
   "execution_count": 31,
   "id": "7ef978ca",
   "metadata": {},
   "outputs": [
    {
     "data": {
      "text/plain": [
       "array([[6, 7]], dtype=int64)"
      ]
     },
     "execution_count": 31,
     "metadata": {},
     "output_type": "execute_result"
    }
   ],
   "source": [
    "I"
   ]
  },
  {
   "cell_type": "code",
   "execution_count": 32,
   "id": "0f89956a-0e15-4159-a979-6220c29af4d3",
   "metadata": {},
   "outputs": [
    {
     "data": {
      "text/html": [
       "<div>\n",
       "<style scoped>\n",
       "    .dataframe tbody tr th:only-of-type {\n",
       "        vertical-align: middle;\n",
       "    }\n",
       "\n",
       "    .dataframe tbody tr th {\n",
       "        vertical-align: top;\n",
       "    }\n",
       "\n",
       "    .dataframe thead th {\n",
       "        text-align: right;\n",
       "    }\n",
       "</style>\n",
       "<table border=\"1\" class=\"dataframe\">\n",
       "  <thead>\n",
       "    <tr style=\"text-align: right;\">\n",
       "      <th></th>\n",
       "      <th>text</th>\n",
       "      <th>category</th>\n",
       "    </tr>\n",
       "  </thead>\n",
       "  <tbody>\n",
       "    <tr>\n",
       "      <th>6</th>\n",
       "      <td>Exciting vacation destinations for your next trip</td>\n",
       "      <td>Travel</td>\n",
       "    </tr>\n",
       "    <tr>\n",
       "      <th>7</th>\n",
       "      <td>Maldives and Srilanka are gaining popularity in terms of low budget vacation places</td>\n",
       "      <td>Travel</td>\n",
       "    </tr>\n",
       "  </tbody>\n",
       "</table>\n",
       "</div>"
      ],
      "text/plain": [
       "                                                                                  text  \\\n",
       "6                                    Exciting vacation destinations for your next trip   \n",
       "7  Maldives and Srilanka are gaining popularity in terms of low budget vacation places   \n",
       "\n",
       "  category  \n",
       "6   Travel  \n",
       "7   Travel  "
      ]
     },
     "execution_count": 32,
     "metadata": {},
     "output_type": "execute_result"
    }
   ],
   "source": [
    "# df.loc[[3,2]]\n",
    "df.loc[I[0]]"
   ]
  },
  {
   "cell_type": "code",
   "execution_count": 33,
   "id": "e2fceefd",
   "metadata": {},
   "outputs": [
    {
     "data": {
      "text/plain": [
       "[[6, 7]]"
      ]
     },
     "execution_count": 33,
     "metadata": {},
     "output_type": "execute_result"
    }
   ],
   "source": [
    "I.tolist()"
   ]
  },
  {
   "cell_type": "code",
   "execution_count": 34,
   "id": "68f88083",
   "metadata": {},
   "outputs": [
    {
     "data": {
      "text/plain": [
       "[6, 7]"
      ]
     },
     "execution_count": 34,
     "metadata": {},
     "output_type": "execute_result"
    }
   ],
   "source": [
    "row_indices = I.tolist()[0]\n",
    "row_indices"
   ]
  },
  {
   "cell_type": "code",
   "execution_count": 35,
   "id": "d856895d",
   "metadata": {
    "scrolled": true
   },
   "outputs": [
    {
     "data": {
      "text/html": [
       "<div>\n",
       "<style scoped>\n",
       "    .dataframe tbody tr th:only-of-type {\n",
       "        vertical-align: middle;\n",
       "    }\n",
       "\n",
       "    .dataframe tbody tr th {\n",
       "        vertical-align: top;\n",
       "    }\n",
       "\n",
       "    .dataframe thead th {\n",
       "        text-align: right;\n",
       "    }\n",
       "</style>\n",
       "<table border=\"1\" class=\"dataframe\">\n",
       "  <thead>\n",
       "    <tr style=\"text-align: right;\">\n",
       "      <th></th>\n",
       "      <th>text</th>\n",
       "      <th>category</th>\n",
       "    </tr>\n",
       "  </thead>\n",
       "  <tbody>\n",
       "    <tr>\n",
       "      <th>6</th>\n",
       "      <td>Exciting vacation destinations for your next trip</td>\n",
       "      <td>Travel</td>\n",
       "    </tr>\n",
       "    <tr>\n",
       "      <th>7</th>\n",
       "      <td>Maldives and Srilanka are gaining popularity in terms of low budget vacation places</td>\n",
       "      <td>Travel</td>\n",
       "    </tr>\n",
       "  </tbody>\n",
       "</table>\n",
       "</div>"
      ],
      "text/plain": [
       "                                                                                  text  \\\n",
       "6                                    Exciting vacation destinations for your next trip   \n",
       "7  Maldives and Srilanka are gaining popularity in terms of low budget vacation places   \n",
       "\n",
       "  category  \n",
       "6   Travel  \n",
       "7   Travel  "
      ]
     },
     "execution_count": 35,
     "metadata": {},
     "output_type": "execute_result"
    }
   ],
   "source": [
    "df.loc[row_indices]"
   ]
  },
  {
   "cell_type": "code",
   "execution_count": 36,
   "id": "b65050a9",
   "metadata": {},
   "outputs": [
    {
     "data": {
      "text/plain": [
       "'looking for places to visit during the holidays'"
      ]
     },
     "execution_count": 36,
     "metadata": {},
     "output_type": "execute_result"
    }
   ],
   "source": [
    "search_query"
   ]
  },
  {
   "cell_type": "markdown",
   "id": "e066c78d",
   "metadata": {},
   "source": [
    "You can see that the two results from the dataframe are similar to a search_query, which is a semantic search"
   ]
  },
  {
   "cell_type": "code",
   "execution_count": null,
   "id": "2e882c04-dc9b-42b3-8ce4-bb83d9e0bbd1",
   "metadata": {},
   "outputs": [],
   "source": []
  }
 ],
 "metadata": {
  "kernelspec": {
   "display_name": "articleenv",
   "language": "python",
   "name": "python3"
  },
  "language_info": {
   "codemirror_mode": {
    "name": "ipython",
    "version": 3
   },
   "file_extension": ".py",
   "mimetype": "text/x-python",
   "name": "python",
   "nbconvert_exporter": "python",
   "pygments_lexer": "ipython3",
   "version": "3.10.0"
  }
 },
 "nbformat": 4,
 "nbformat_minor": 5
}
